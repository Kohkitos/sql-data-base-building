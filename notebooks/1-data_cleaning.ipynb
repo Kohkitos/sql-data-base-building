{
 "cells": [
  {
   "cell_type": "markdown",
   "id": "1f89252c-d833-4b56-a088-5e831da511bc",
   "metadata": {},
   "source": [
    "# Data Cleaning"
   ]
  },
  {
   "cell_type": "code",
   "execution_count": 1,
   "id": "a3b3bf0d-e0bf-4956-8000-193b539cf00f",
   "metadata": {
    "tags": []
   },
   "outputs": [],
   "source": [
    "# Libraries\n",
    "import pandas as pd\n",
    "pd.set_option('display.max_columns', None)\n",
    "\n",
    "import numpy as np\n",
    "\n",
    "import warnings\n",
    "warnings.filterwarnings('ignore')"
   ]
  },
  {
   "cell_type": "markdown",
   "id": "16c52b15-3a6e-49c5-a2b7-4e49ff0bc4e0",
   "metadata": {},
   "source": [
    "I'm going to do a general cleaning of all the tables, it will go like so:\n",
    "+ Drop `last_update` column.\n",
    "+ Check if the DTypes are correct.\n",
    "\n",
    "Some tables need specific cleaning but it will be cleared."
   ]
  },
  {
   "cell_type": "markdown",
   "id": "4bd40767-e83a-473a-8138-e37deae6c05d",
   "metadata": {},
   "source": [
    "After general cleaning, I'm going to:\n",
    "1. Transform the data in `old_HDD` so that it contains the `film_id` and `actor_id`, as the relationship between the two tables will be many-to-many.\n",
    "1. 'Transfer' the `category_id` table to  `film` and substitute the id with the category itself; there's no need for a table with just the category."
   ]
  },
  {
   "cell_type": "markdown",
   "id": "4ad039ce-71e0-41ef-8f57-0714bfb40d81",
   "metadata": {},
   "source": [
    "`Language` table, as stated before in the `0-data_exploration` notebook, is going to be dropped since there is no way to know in which language is every film without web-scrapping or access to another database."
   ]
  },
  {
   "cell_type": "markdown",
   "id": "403407aa-7c9d-444e-ab0a-0ff30d25e9a1",
   "metadata": {},
   "source": [
    "## Inventory"
   ]
  },
  {
   "cell_type": "code",
   "execution_count": 23,
   "id": "57bb167e-c8b1-4681-ae47-fa60d0ff4c28",
   "metadata": {
    "tags": []
   },
   "outputs": [],
   "source": [
    "df = pd.read_csv('../src/inventory.csv')"
   ]
  },
  {
   "cell_type": "code",
   "execution_count": 24,
   "id": "e8ee6cf6-b733-4e95-bf75-20539504f100",
   "metadata": {
    "tags": []
   },
   "outputs": [],
   "source": [
    "# drop last_update\n",
    "df.drop('last_update', axis=1, inplace=True)"
   ]
  },
  {
   "cell_type": "code",
   "execution_count": 25,
   "id": "dcf9d91b-8baa-4509-93fe-b7479807c19b",
   "metadata": {
    "tags": []
   },
   "outputs": [
    {
     "name": "stdout",
     "output_type": "stream",
     "text": [
      "<class 'pandas.core.frame.DataFrame'>\n",
      "RangeIndex: 1000 entries, 0 to 999\n",
      "Data columns (total 3 columns):\n",
      " #   Column        Non-Null Count  Dtype\n",
      "---  ------        --------------  -----\n",
      " 0   inventory_id  1000 non-null   int64\n",
      " 1   film_id       1000 non-null   int64\n",
      " 2   store_id      1000 non-null   int64\n",
      "dtypes: int64(3)\n",
      "memory usage: 23.6 KB\n"
     ]
    }
   ],
   "source": [
    "# checking data types\n",
    "df.info(memory_usage='deep')"
   ]
  },
  {
   "cell_type": "code",
   "execution_count": 26,
   "id": "98cc33f0-d985-4334-b0ca-5ae8aef3e78b",
   "metadata": {
    "tags": []
   },
   "outputs": [],
   "source": [
    "# saving it for later use\n",
    "df.to_csv('../data/inventory.csv')"
   ]
  },
  {
   "cell_type": "markdown",
   "id": "5fab06a1-14e0-4a33-8a6e-b176307e9b7a",
   "metadata": {},
   "source": [
    "# Actor"
   ]
  },
  {
   "cell_type": "code",
   "execution_count": 27,
   "id": "782ef9dc-03e1-4689-88ef-747a2a137b2b",
   "metadata": {
    "tags": []
   },
   "outputs": [],
   "source": [
    "df = pd.read_csv('../src/actor.csv')"
   ]
  },
  {
   "cell_type": "code",
   "execution_count": 28,
   "id": "b3748969-676b-497e-9bba-e0d28ef563da",
   "metadata": {
    "tags": []
   },
   "outputs": [],
   "source": [
    "# drop last_update\n",
    "df.drop('last_update', axis=1, inplace=True)"
   ]
  },
  {
   "cell_type": "code",
   "execution_count": 29,
   "id": "e10b7b2b-70cc-4ad1-b359-8ddc9398b172",
   "metadata": {
    "tags": []
   },
   "outputs": [
    {
     "name": "stdout",
     "output_type": "stream",
     "text": [
      "<class 'pandas.core.frame.DataFrame'>\n",
      "RangeIndex: 200 entries, 0 to 199\n",
      "Data columns (total 3 columns):\n",
      " #   Column      Non-Null Count  Dtype \n",
      "---  ------      --------------  ----- \n",
      " 0   actor_id    200 non-null    int64 \n",
      " 1   first_name  200 non-null    object\n",
      " 2   last_name   200 non-null    object\n",
      "dtypes: int64(1), object(2)\n",
      "memory usage: 26.2 KB\n"
     ]
    }
   ],
   "source": [
    "# checking data types\n",
    "df.info(memory_usage='deep')"
   ]
  },
  {
   "cell_type": "code",
   "execution_count": 30,
   "id": "ef020d76-e717-4d5b-9ae5-98938a4dcd06",
   "metadata": {
    "tags": []
   },
   "outputs": [],
   "source": [
    "# saving it for later use\n",
    "df.to_csv('../data/actor.csv')"
   ]
  },
  {
   "cell_type": "markdown",
   "id": "85d7a0f5-1881-4ee7-92db-7bb21300b7f6",
   "metadata": {},
   "source": [
    "## Film"
   ]
  },
  {
   "cell_type": "code",
   "execution_count": 37,
   "id": "820b3aed-b7db-4c99-b2b0-06287e920dc9",
   "metadata": {
    "tags": []
   },
   "outputs": [],
   "source": [
    "df = pd.read_csv('../src/film.csv')"
   ]
  },
  {
   "cell_type": "code",
   "execution_count": 38,
   "id": "d661b1f9-a826-4e71-8397-37cf7a8a454a",
   "metadata": {
    "tags": []
   },
   "outputs": [],
   "source": [
    "# drop last_update, rental_duration, duplicated language_id column and null original_language_id\n",
    "df.drop(['last_update', 'rental_rate', 'language_id', 'original_language_id'], axis=1, inplace=True)"
   ]
  },
  {
   "cell_type": "code",
   "execution_count": 40,
   "id": "ec978a67-e40c-46f6-96bd-ae6b3b2a8d22",
   "metadata": {
    "tags": []
   },
   "outputs": [],
   "source": [
    "# changing column names for clarification\n",
    "df.rename(columns= {'rental_duration': 'rental_days'}, inplace=True)"
   ]
  },
  {
   "cell_type": "code",
   "execution_count": 42,
   "id": "e55d144a-d132-4ccb-94cd-38a515369cac",
   "metadata": {
    "tags": []
   },
   "outputs": [
    {
     "name": "stdout",
     "output_type": "stream",
     "text": [
      "<class 'pandas.core.frame.DataFrame'>\n",
      "RangeIndex: 1000 entries, 0 to 999\n",
      "Data columns (total 9 columns):\n",
      " #   Column            Non-Null Count  Dtype  \n",
      "---  ------            --------------  -----  \n",
      " 0   film_id           1000 non-null   int64  \n",
      " 1   title             1000 non-null   object \n",
      " 2   description       1000 non-null   object \n",
      " 3   release_year      1000 non-null   int64  \n",
      " 4   rental_days       1000 non-null   int64  \n",
      " 5   length            1000 non-null   int64  \n",
      " 6   replacement_cost  1000 non-null   float64\n",
      " 7   rating            1000 non-null   object \n",
      " 8   special_features  1000 non-null   object \n",
      "dtypes: float64(1), int64(4), object(4)\n",
      "memory usage: 397.6 KB\n"
     ]
    }
   ],
   "source": [
    "# checking data types\n",
    "df.info(memory_usage='deep')"
   ]
  },
  {
   "cell_type": "code",
   "execution_count": 43,
   "id": "4d5e74e2-d1f5-4246-a931-753b5a1fbda0",
   "metadata": {
    "tags": []
   },
   "outputs": [],
   "source": [
    "df.to_csv('../data/film.csv')"
   ]
  },
  {
   "cell_type": "markdown",
   "id": "e3c4479b-bd2c-4bdb-825a-00f6cc2397fc",
   "metadata": {},
   "source": [
    "## Linking Actor and FilmID"
   ]
  },
  {
   "cell_type": "code",
   "execution_count": 46,
   "id": "20411e7a-1629-4b1e-87e0-cd95ded11679",
   "metadata": {
    "tags": []
   },
   "outputs": [],
   "source": [
    "df = pd.read_csv('../src/old_HDD.csv')"
   ]
  },
  {
   "cell_type": "code",
   "execution_count": 48,
   "id": "d9696cf3-5685-4637-bf37-286c4998e5f6",
   "metadata": {
    "tags": []
   },
   "outputs": [
    {
     "data": {
      "text/html": [
       "<div>\n",
       "<style scoped>\n",
       "    .dataframe tbody tr th:only-of-type {\n",
       "        vertical-align: middle;\n",
       "    }\n",
       "\n",
       "    .dataframe tbody tr th {\n",
       "        vertical-align: top;\n",
       "    }\n",
       "\n",
       "    .dataframe thead th {\n",
       "        text-align: right;\n",
       "    }\n",
       "</style>\n",
       "<table border=\"1\" class=\"dataframe\">\n",
       "  <thead>\n",
       "    <tr style=\"text-align: right;\">\n",
       "      <th></th>\n",
       "      <th>first_name</th>\n",
       "      <th>last_name</th>\n",
       "      <th>title</th>\n",
       "      <th>release_year</th>\n",
       "      <th>category_id</th>\n",
       "    </tr>\n",
       "  </thead>\n",
       "  <tbody>\n",
       "    <tr>\n",
       "      <th>0</th>\n",
       "      <td>PENELOPE</td>\n",
       "      <td>GUINESS</td>\n",
       "      <td>ACADEMY DINOSAUR</td>\n",
       "      <td>2006</td>\n",
       "      <td>6</td>\n",
       "    </tr>\n",
       "    <tr>\n",
       "      <th>1</th>\n",
       "      <td>PENELOPE</td>\n",
       "      <td>GUINESS</td>\n",
       "      <td>ANACONDA CONFESSIONS</td>\n",
       "      <td>2006</td>\n",
       "      <td>2</td>\n",
       "    </tr>\n",
       "    <tr>\n",
       "      <th>2</th>\n",
       "      <td>PENELOPE</td>\n",
       "      <td>GUINESS</td>\n",
       "      <td>ANGELS LIFE</td>\n",
       "      <td>2006</td>\n",
       "      <td>13</td>\n",
       "    </tr>\n",
       "    <tr>\n",
       "      <th>3</th>\n",
       "      <td>PENELOPE</td>\n",
       "      <td>GUINESS</td>\n",
       "      <td>BULWORTH COMMANDMENTS</td>\n",
       "      <td>2006</td>\n",
       "      <td>10</td>\n",
       "    </tr>\n",
       "    <tr>\n",
       "      <th>4</th>\n",
       "      <td>PENELOPE</td>\n",
       "      <td>GUINESS</td>\n",
       "      <td>CHEAPER CLYDE</td>\n",
       "      <td>2006</td>\n",
       "      <td>14</td>\n",
       "    </tr>\n",
       "  </tbody>\n",
       "</table>\n",
       "</div>"
      ],
      "text/plain": [
       "  first_name last_name                  title  release_year  category_id\n",
       "0   PENELOPE   GUINESS       ACADEMY DINOSAUR          2006            6\n",
       "1   PENELOPE   GUINESS   ANACONDA CONFESSIONS          2006            2\n",
       "2   PENELOPE   GUINESS            ANGELS LIFE          2006           13\n",
       "3   PENELOPE   GUINESS  BULWORTH COMMANDMENTS          2006           10\n",
       "4   PENELOPE   GUINESS          CHEAPER CLYDE          2006           14"
      ]
     },
     "execution_count": 48,
     "metadata": {},
     "output_type": "execute_result"
    }
   ],
   "source": [
    "df.head()"
   ]
  }
 ],
 "metadata": {
  "kernelspec": {
   "display_name": "Python 3 (ipykernel)",
   "language": "python",
   "name": "python3"
  },
  "language_info": {
   "codemirror_mode": {
    "name": "ipython",
    "version": 3
   },
   "file_extension": ".py",
   "mimetype": "text/x-python",
   "name": "python",
   "nbconvert_exporter": "python",
   "pygments_lexer": "ipython3",
   "version": "3.11.4"
  }
 },
 "nbformat": 4,
 "nbformat_minor": 5
}
