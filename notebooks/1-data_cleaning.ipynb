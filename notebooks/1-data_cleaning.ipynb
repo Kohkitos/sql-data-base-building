{
 "cells": [
  {
   "cell_type": "markdown",
   "id": "1f89252c-d833-4b56-a088-5e831da511bc",
   "metadata": {},
   "source": [
    "# Data Cleaning"
   ]
  },
  {
   "cell_type": "code",
   "execution_count": 1,
   "id": "a3b3bf0d-e0bf-4956-8000-193b539cf00f",
   "metadata": {
    "tags": []
   },
   "outputs": [],
   "source": [
    "# Libraries\n",
    "import pandas as pd\n",
    "pd.set_option('display.max_columns', None)\n",
    "\n",
    "import numpy as np\n",
    "\n",
    "import warnings\n",
    "warnings.filterwarnings('ignore')"
   ]
  },
  {
   "cell_type": "markdown",
   "id": "16c52b15-3a6e-49c5-a2b7-4e49ff0bc4e0",
   "metadata": {},
   "source": [
    "I'm going to do a general cleaning of all the tables, it will go like so:\n",
    "+ Drop `last_update` column.\n",
    "+ Check if the DTypes are correct.\n",
    "\n",
    "Some tables need specific cleaning but it will be cleared."
   ]
  },
  {
   "cell_type": "markdown",
   "id": "4bd40767-e83a-473a-8138-e37deae6c05d",
   "metadata": {},
   "source": [
    "After general cleaning, I'm going to:\n",
    "1. Transform the data in `old_HDD` so that it contains the `film_id` and `actor_id`, as the relationship between the two tables will be many-to-many.\n",
    "1. 'Transfer' the `category_id` table to  `film` and substitute the id with the category itself; there's no need for a table with just the category."
   ]
  },
  {
   "cell_type": "markdown",
   "id": "4ad039ce-71e0-41ef-8f57-0714bfb40d81",
   "metadata": {},
   "source": [
    "`Language` table, as stated before in the `0-data_exploration` notebook, is going to be dropped since there is no way to know in which language is every film without web-scrapping or access to another database."
   ]
  },
  {
   "cell_type": "markdown",
   "id": "403407aa-7c9d-444e-ab0a-0ff30d25e9a1",
   "metadata": {},
   "source": [
    "## Inventory"
   ]
  },
  {
   "cell_type": "code",
   "execution_count": 2,
   "id": "57bb167e-c8b1-4681-ae47-fa60d0ff4c28",
   "metadata": {
    "tags": []
   },
   "outputs": [],
   "source": [
    "df = pd.read_csv('../src/inventory.csv')"
   ]
  },
  {
   "cell_type": "code",
   "execution_count": 3,
   "id": "e8ee6cf6-b733-4e95-bf75-20539504f100",
   "metadata": {
    "tags": []
   },
   "outputs": [],
   "source": [
    "# drop last_update\n",
    "df.drop('last_update', axis=1, inplace=True)"
   ]
  },
  {
   "cell_type": "code",
   "execution_count": 4,
   "id": "dcf9d91b-8baa-4509-93fe-b7479807c19b",
   "metadata": {
    "tags": []
   },
   "outputs": [
    {
     "name": "stdout",
     "output_type": "stream",
     "text": [
      "<class 'pandas.core.frame.DataFrame'>\n",
      "RangeIndex: 1000 entries, 0 to 999\n",
      "Data columns (total 3 columns):\n",
      " #   Column        Non-Null Count  Dtype\n",
      "---  ------        --------------  -----\n",
      " 0   inventory_id  1000 non-null   int64\n",
      " 1   film_id       1000 non-null   int64\n",
      " 2   store_id      1000 non-null   int64\n",
      "dtypes: int64(3)\n",
      "memory usage: 23.6 KB\n"
     ]
    }
   ],
   "source": [
    "# checking data types\n",
    "df.info(memory_usage='deep')"
   ]
  },
  {
   "cell_type": "markdown",
   "id": "ed537b8c-9f26-4717-9d2d-cc05cd5d72f0",
   "metadata": {},
   "source": [
    "Since we're going to just have one store, we're going to change the `store_id` to 1, we don't know if Deli will open another store in the future."
   ]
  },
  {
   "cell_type": "code",
   "execution_count": 5,
   "id": "6b079d91-687b-4a34-b69a-b6d11978893c",
   "metadata": {
    "tags": []
   },
   "outputs": [],
   "source": [
    "df.store_id = 1"
   ]
  },
  {
   "cell_type": "code",
   "execution_count": 6,
   "id": "98cc33f0-d985-4334-b0ca-5ae8aef3e78b",
   "metadata": {
    "tags": []
   },
   "outputs": [],
   "source": [
    "# saving it for later use\n",
    "df.set_index('inventory_id', inplace=True)\n",
    "df.to_csv('../data/inventory.csv')"
   ]
  },
  {
   "cell_type": "markdown",
   "id": "5fab06a1-14e0-4a33-8a6e-b176307e9b7a",
   "metadata": {},
   "source": [
    "# Actor"
   ]
  },
  {
   "cell_type": "code",
   "execution_count": 7,
   "id": "782ef9dc-03e1-4689-88ef-747a2a137b2b",
   "metadata": {
    "tags": []
   },
   "outputs": [],
   "source": [
    "df = pd.read_csv('../src/actor.csv')"
   ]
  },
  {
   "cell_type": "code",
   "execution_count": 8,
   "id": "b3748969-676b-497e-9bba-e0d28ef563da",
   "metadata": {
    "tags": []
   },
   "outputs": [],
   "source": [
    "# drop last_update\n",
    "df.drop('last_update', axis=1, inplace=True)"
   ]
  },
  {
   "cell_type": "code",
   "execution_count": 9,
   "id": "e10b7b2b-70cc-4ad1-b359-8ddc9398b172",
   "metadata": {
    "tags": []
   },
   "outputs": [
    {
     "name": "stdout",
     "output_type": "stream",
     "text": [
      "<class 'pandas.core.frame.DataFrame'>\n",
      "RangeIndex: 200 entries, 0 to 199\n",
      "Data columns (total 3 columns):\n",
      " #   Column      Non-Null Count  Dtype \n",
      "---  ------      --------------  ----- \n",
      " 0   actor_id    200 non-null    int64 \n",
      " 1   first_name  200 non-null    object\n",
      " 2   last_name   200 non-null    object\n",
      "dtypes: int64(1), object(2)\n",
      "memory usage: 26.2 KB\n"
     ]
    }
   ],
   "source": [
    "# checking data types\n",
    "df.info(memory_usage='deep')"
   ]
  },
  {
   "cell_type": "code",
   "execution_count": 10,
   "id": "ef020d76-e717-4d5b-9ae5-98938a4dcd06",
   "metadata": {
    "tags": []
   },
   "outputs": [],
   "source": [
    "# saving it for later use\n",
    "df.set_index('actor_id', inplace=True)\n",
    "df.to_csv('../data/actor.csv')"
   ]
  },
  {
   "cell_type": "markdown",
   "id": "85d7a0f5-1881-4ee7-92db-7bb21300b7f6",
   "metadata": {},
   "source": [
    "## Film"
   ]
  },
  {
   "cell_type": "code",
   "execution_count": 11,
   "id": "820b3aed-b7db-4c99-b2b0-06287e920dc9",
   "metadata": {
    "tags": []
   },
   "outputs": [],
   "source": [
    "df = pd.read_csv('../src/film.csv')"
   ]
  },
  {
   "cell_type": "code",
   "execution_count": 12,
   "id": "d661b1f9-a826-4e71-8397-37cf7a8a454a",
   "metadata": {
    "tags": []
   },
   "outputs": [],
   "source": [
    "# drop last_update, rental_duration, duplicated language_id column and null original_language_id\n",
    "df.drop(['last_update', 'rental_rate', 'language_id', 'original_language_id'], axis=1, inplace=True)"
   ]
  },
  {
   "cell_type": "code",
   "execution_count": 13,
   "id": "ec978a67-e40c-46f6-96bd-ae6b3b2a8d22",
   "metadata": {
    "tags": []
   },
   "outputs": [],
   "source": [
    "# changing column names for clarification\n",
    "df.rename(columns= {'rental_duration': 'rental_days'}, inplace=True)"
   ]
  },
  {
   "cell_type": "code",
   "execution_count": 14,
   "id": "e55d144a-d132-4ccb-94cd-38a515369cac",
   "metadata": {
    "tags": []
   },
   "outputs": [
    {
     "name": "stdout",
     "output_type": "stream",
     "text": [
      "<class 'pandas.core.frame.DataFrame'>\n",
      "RangeIndex: 1000 entries, 0 to 999\n",
      "Data columns (total 9 columns):\n",
      " #   Column            Non-Null Count  Dtype  \n",
      "---  ------            --------------  -----  \n",
      " 0   film_id           1000 non-null   int64  \n",
      " 1   title             1000 non-null   object \n",
      " 2   description       1000 non-null   object \n",
      " 3   release_year      1000 non-null   int64  \n",
      " 4   rental_days       1000 non-null   int64  \n",
      " 5   length            1000 non-null   int64  \n",
      " 6   replacement_cost  1000 non-null   float64\n",
      " 7   rating            1000 non-null   object \n",
      " 8   special_features  1000 non-null   object \n",
      "dtypes: float64(1), int64(4), object(4)\n",
      "memory usage: 397.6 KB\n"
     ]
    }
   ],
   "source": [
    "# checking data types\n",
    "df.info(memory_usage='deep')"
   ]
  },
  {
   "cell_type": "code",
   "execution_count": 15,
   "id": "4d5e74e2-d1f5-4246-a931-753b5a1fbda0",
   "metadata": {
    "tags": []
   },
   "outputs": [],
   "source": [
    "df.set_index('film_id', inplace=True)\n",
    "df.to_csv('../data/film.csv')"
   ]
  },
  {
   "cell_type": "markdown",
   "id": "e3c4479b-bd2c-4bdb-825a-00f6cc2397fc",
   "metadata": {},
   "source": [
    "## Linking Actor and FilmID"
   ]
  },
  {
   "cell_type": "code",
   "execution_count": 16,
   "id": "20411e7a-1629-4b1e-87e0-cd95ded11679",
   "metadata": {
    "tags": []
   },
   "outputs": [],
   "source": [
    "df = pd.read_csv('../src/old_HDD.csv')"
   ]
  },
  {
   "cell_type": "code",
   "execution_count": 17,
   "id": "d9696cf3-5685-4637-bf37-286c4998e5f6",
   "metadata": {
    "tags": []
   },
   "outputs": [
    {
     "name": "stdout",
     "output_type": "stream",
     "text": [
      "<class 'pandas.core.frame.DataFrame'>\n",
      "RangeIndex: 1000 entries, 0 to 999\n",
      "Data columns (total 5 columns):\n",
      " #   Column        Non-Null Count  Dtype \n",
      "---  ------        --------------  ----- \n",
      " 0   first_name    1000 non-null   object\n",
      " 1   last_name     1000 non-null   object\n",
      " 2   title         1000 non-null   object\n",
      " 3   release_year  1000 non-null   int64 \n",
      " 4   category_id   1000 non-null   int64 \n",
      "dtypes: int64(2), object(3)\n",
      "memory usage: 39.2+ KB\n"
     ]
    }
   ],
   "source": [
    "df.info()"
   ]
  },
  {
   "cell_type": "code",
   "execution_count": 18,
   "id": "0f95d0a1-d46d-402e-a71c-187252dc886c",
   "metadata": {
    "tags": []
   },
   "outputs": [],
   "source": [
    "# we don't need the release_year col\n",
    "df.drop('release_year', axis=1, inplace=True)"
   ]
  },
  {
   "cell_type": "markdown",
   "id": "28ce3c4e-8312-4833-aad7-d403d62af964",
   "metadata": {},
   "source": [
    "First, let's add the actor's id."
   ]
  },
  {
   "cell_type": "code",
   "execution_count": 19,
   "id": "40dc3987-4d79-4e37-ab6d-d43766ce013e",
   "metadata": {
    "tags": []
   },
   "outputs": [],
   "source": [
    "actor = pd.read_csv('../data/actor.csv')"
   ]
  },
  {
   "cell_type": "code",
   "execution_count": 20,
   "id": "1acede18-1a86-4397-8a02-8ec5b8c9ff8a",
   "metadata": {
    "tags": []
   },
   "outputs": [],
   "source": [
    "# merge the first and last name columns\n",
    "actor['name'] = actor.first_name + ' ' + actor.last_name\n",
    "actor.drop(['first_name', 'last_name'], axis=1, inplace=True)\n",
    "\n",
    "df['name'] = df.first_name + ' ' + df.last_name\n",
    "df.drop(['first_name', 'last_name'], axis=1, inplace=True)"
   ]
  },
  {
   "cell_type": "code",
   "execution_count": 21,
   "id": "0797bd31-ff46-48fc-aebb-84e8aff78b5c",
   "metadata": {
    "tags": []
   },
   "outputs": [
    {
     "data": {
      "text/html": [
       "<div>\n",
       "<style scoped>\n",
       "    .dataframe tbody tr th:only-of-type {\n",
       "        vertical-align: middle;\n",
       "    }\n",
       "\n",
       "    .dataframe tbody tr th {\n",
       "        vertical-align: top;\n",
       "    }\n",
       "\n",
       "    .dataframe thead th {\n",
       "        text-align: right;\n",
       "    }\n",
       "</style>\n",
       "<table border=\"1\" class=\"dataframe\">\n",
       "  <thead>\n",
       "    <tr style=\"text-align: right;\">\n",
       "      <th></th>\n",
       "      <th>actor_id</th>\n",
       "      <th>name</th>\n",
       "    </tr>\n",
       "  </thead>\n",
       "  <tbody>\n",
       "    <tr>\n",
       "      <th>0</th>\n",
       "      <td>1</td>\n",
       "      <td>PENELOPE GUINESS</td>\n",
       "    </tr>\n",
       "    <tr>\n",
       "      <th>1</th>\n",
       "      <td>2</td>\n",
       "      <td>NICK WAHLBERG</td>\n",
       "    </tr>\n",
       "    <tr>\n",
       "      <th>2</th>\n",
       "      <td>3</td>\n",
       "      <td>ED CHASE</td>\n",
       "    </tr>\n",
       "    <tr>\n",
       "      <th>3</th>\n",
       "      <td>4</td>\n",
       "      <td>JENNIFER DAVIS</td>\n",
       "    </tr>\n",
       "    <tr>\n",
       "      <th>4</th>\n",
       "      <td>5</td>\n",
       "      <td>JOHNNY LOLLOBRIGIDA</td>\n",
       "    </tr>\n",
       "  </tbody>\n",
       "</table>\n",
       "</div>"
      ],
      "text/plain": [
       "   actor_id                 name\n",
       "0         1     PENELOPE GUINESS\n",
       "1         2        NICK WAHLBERG\n",
       "2         3             ED CHASE\n",
       "3         4       JENNIFER DAVIS\n",
       "4         5  JOHNNY LOLLOBRIGIDA"
      ]
     },
     "execution_count": 21,
     "metadata": {},
     "output_type": "execute_result"
    }
   ],
   "source": [
    "actor.head()"
   ]
  },
  {
   "cell_type": "code",
   "execution_count": 22,
   "id": "12a6dbf0-e095-46a2-b556-259340354e68",
   "metadata": {
    "tags": []
   },
   "outputs": [],
   "source": [
    "actor.set_index('actor_id', inplace=True)\n",
    "id_and_actor = actor.name.to_dict()"
   ]
  },
  {
   "cell_type": "code",
   "execution_count": 23,
   "id": "867e185c-922b-44d4-b102-dab193bc463b",
   "metadata": {
    "tags": []
   },
   "outputs": [],
   "source": [
    "df['actor_id'] = df.name.apply(lambda x: next(k for k, v in id_and_actor.items() if v == x))"
   ]
  },
  {
   "cell_type": "code",
   "execution_count": 24,
   "id": "7dd2ea6b-832a-4d93-aa7d-10e82e659e3b",
   "metadata": {
    "tags": []
   },
   "outputs": [],
   "source": [
    "df.drop('name', axis=1, inplace=True)"
   ]
  },
  {
   "cell_type": "markdown",
   "id": "0b1f9133-be4e-4e9e-9061-3ced775da097",
   "metadata": {},
   "source": [
    "Now, the same to with films."
   ]
  },
  {
   "cell_type": "code",
   "execution_count": 25,
   "id": "fae912b2-c8c8-4101-8346-0c866d7d11a7",
   "metadata": {
    "tags": []
   },
   "outputs": [],
   "source": [
    "film = pd.read_csv('../data/film.csv')"
   ]
  },
  {
   "cell_type": "code",
   "execution_count": 26,
   "id": "fda97b4b-16c8-4723-9d8f-0def28aeef4e",
   "metadata": {
    "tags": []
   },
   "outputs": [],
   "source": [
    "# drop unneeded cols\n",
    "film = film[['film_id', 'title']]"
   ]
  },
  {
   "cell_type": "code",
   "execution_count": 27,
   "id": "39e48ed5-98ed-47ff-81ce-e46cf1dc5ca8",
   "metadata": {
    "tags": []
   },
   "outputs": [],
   "source": [
    "film.set_index('film_id', inplace=True)\n",
    "id_and_film = film.title.to_dict()\n",
    "\n",
    "df['film_id'] = df.title.apply(lambda x: next(k for k, v in id_and_film.items() if v == x))\n",
    "\n",
    "df.drop('title', axis=1, inplace=True)"
   ]
  },
  {
   "cell_type": "code",
   "execution_count": 28,
   "id": "52334f2c-5811-4ffc-8019-d9cd3a6c9bcd",
   "metadata": {
    "tags": []
   },
   "outputs": [
    {
     "data": {
      "text/html": [
       "<div>\n",
       "<style scoped>\n",
       "    .dataframe tbody tr th:only-of-type {\n",
       "        vertical-align: middle;\n",
       "    }\n",
       "\n",
       "    .dataframe tbody tr th {\n",
       "        vertical-align: top;\n",
       "    }\n",
       "\n",
       "    .dataframe thead th {\n",
       "        text-align: right;\n",
       "    }\n",
       "</style>\n",
       "<table border=\"1\" class=\"dataframe\">\n",
       "  <thead>\n",
       "    <tr style=\"text-align: right;\">\n",
       "      <th></th>\n",
       "      <th>category_id</th>\n",
       "      <th>actor_id</th>\n",
       "      <th>film_id</th>\n",
       "    </tr>\n",
       "  </thead>\n",
       "  <tbody>\n",
       "    <tr>\n",
       "      <th>0</th>\n",
       "      <td>6</td>\n",
       "      <td>1</td>\n",
       "      <td>1</td>\n",
       "    </tr>\n",
       "    <tr>\n",
       "      <th>1</th>\n",
       "      <td>2</td>\n",
       "      <td>1</td>\n",
       "      <td>23</td>\n",
       "    </tr>\n",
       "    <tr>\n",
       "      <th>2</th>\n",
       "      <td>13</td>\n",
       "      <td>1</td>\n",
       "      <td>25</td>\n",
       "    </tr>\n",
       "    <tr>\n",
       "      <th>3</th>\n",
       "      <td>10</td>\n",
       "      <td>1</td>\n",
       "      <td>106</td>\n",
       "    </tr>\n",
       "    <tr>\n",
       "      <th>4</th>\n",
       "      <td>14</td>\n",
       "      <td>1</td>\n",
       "      <td>140</td>\n",
       "    </tr>\n",
       "  </tbody>\n",
       "</table>\n",
       "</div>"
      ],
      "text/plain": [
       "   category_id  actor_id  film_id\n",
       "0            6         1        1\n",
       "1            2         1       23\n",
       "2           13         1       25\n",
       "3           10         1      106\n",
       "4           14         1      140"
      ]
     },
     "execution_count": 28,
     "metadata": {},
     "output_type": "execute_result"
    }
   ],
   "source": [
    "# check the df\n",
    "df.head()"
   ]
  },
  {
   "cell_type": "markdown",
   "id": "18a32d13-a4b8-4090-afed-af3b3764efab",
   "metadata": {},
   "source": [
    "Before saving this dataframe, I'm going to create a new column in films with the category."
   ]
  },
  {
   "cell_type": "markdown",
   "id": "5d8b28d0-a80d-402f-95f8-453dd5fed3db",
   "metadata": {},
   "source": [
    "## Creating category in film"
   ]
  },
  {
   "cell_type": "code",
   "execution_count": 29,
   "id": "6e939552-d5a8-4854-b14b-f9f73b7a2606",
   "metadata": {
    "tags": []
   },
   "outputs": [],
   "source": [
    "film = pd.read_csv('../data/film.csv')"
   ]
  },
  {
   "cell_type": "code",
   "execution_count": 30,
   "id": "97438368-22b7-4a74-9a82-d7f73ccd537e",
   "metadata": {
    "tags": []
   },
   "outputs": [],
   "source": [
    "category = pd.read_csv('../src/category.csv')\n",
    "category.drop('last_update', axis=1, inplace=True)"
   ]
  },
  {
   "cell_type": "code",
   "execution_count": 31,
   "id": "266863a8-0e33-4fc5-ab89-8537d7a86709",
   "metadata": {
    "tags": []
   },
   "outputs": [
    {
     "data": {
      "text/html": [
       "<div>\n",
       "<style scoped>\n",
       "    .dataframe tbody tr th:only-of-type {\n",
       "        vertical-align: middle;\n",
       "    }\n",
       "\n",
       "    .dataframe tbody tr th {\n",
       "        vertical-align: top;\n",
       "    }\n",
       "\n",
       "    .dataframe thead th {\n",
       "        text-align: right;\n",
       "    }\n",
       "</style>\n",
       "<table border=\"1\" class=\"dataframe\">\n",
       "  <thead>\n",
       "    <tr style=\"text-align: right;\">\n",
       "      <th></th>\n",
       "      <th>category_id</th>\n",
       "      <th>name</th>\n",
       "    </tr>\n",
       "  </thead>\n",
       "  <tbody>\n",
       "    <tr>\n",
       "      <th>0</th>\n",
       "      <td>1</td>\n",
       "      <td>Action</td>\n",
       "    </tr>\n",
       "    <tr>\n",
       "      <th>1</th>\n",
       "      <td>2</td>\n",
       "      <td>Animation</td>\n",
       "    </tr>\n",
       "    <tr>\n",
       "      <th>2</th>\n",
       "      <td>3</td>\n",
       "      <td>Children</td>\n",
       "    </tr>\n",
       "    <tr>\n",
       "      <th>3</th>\n",
       "      <td>4</td>\n",
       "      <td>Classics</td>\n",
       "    </tr>\n",
       "    <tr>\n",
       "      <th>4</th>\n",
       "      <td>5</td>\n",
       "      <td>Comedy</td>\n",
       "    </tr>\n",
       "  </tbody>\n",
       "</table>\n",
       "</div>"
      ],
      "text/plain": [
       "   category_id       name\n",
       "0            1     Action\n",
       "1            2  Animation\n",
       "2            3   Children\n",
       "3            4   Classics\n",
       "4            5     Comedy"
      ]
     },
     "execution_count": 31,
     "metadata": {},
     "output_type": "execute_result"
    }
   ],
   "source": [
    "category.head()"
   ]
  },
  {
   "cell_type": "code",
   "execution_count": 32,
   "id": "448e997f-7ed8-46d2-a4e1-6382cd22e06b",
   "metadata": {
    "tags": []
   },
   "outputs": [],
   "source": [
    "# create a dictionary relating film_id and category_id\n",
    "id_and_id = df[['film_id', 'category_id']]\n",
    "\n",
    "id_and_id.drop_duplicates('film_id', inplace=True)\n",
    "id_and_id.sort_values('film_id', inplace=True)\n",
    "id_and_id.set_index('film_id', inplace=True)\n",
    "\n",
    "id_and_id = id_and_id.category_id.to_dict()"
   ]
  },
  {
   "cell_type": "code",
   "execution_count": 33,
   "id": "4c927cea-16d8-4caa-be32-730f10451b7a",
   "metadata": {
    "tags": []
   },
   "outputs": [
    {
     "data": {
      "text/html": [
       "<div>\n",
       "<style scoped>\n",
       "    .dataframe tbody tr th:only-of-type {\n",
       "        vertical-align: middle;\n",
       "    }\n",
       "\n",
       "    .dataframe tbody tr th {\n",
       "        vertical-align: top;\n",
       "    }\n",
       "\n",
       "    .dataframe thead th {\n",
       "        text-align: right;\n",
       "    }\n",
       "</style>\n",
       "<table border=\"1\" class=\"dataframe\">\n",
       "  <thead>\n",
       "    <tr style=\"text-align: right;\">\n",
       "      <th></th>\n",
       "      <th>film_id</th>\n",
       "      <th>title</th>\n",
       "      <th>description</th>\n",
       "      <th>release_year</th>\n",
       "      <th>rental_days</th>\n",
       "      <th>length</th>\n",
       "      <th>replacement_cost</th>\n",
       "      <th>rating</th>\n",
       "      <th>special_features</th>\n",
       "    </tr>\n",
       "  </thead>\n",
       "  <tbody>\n",
       "    <tr>\n",
       "      <th>0</th>\n",
       "      <td>1</td>\n",
       "      <td>ACADEMY DINOSAUR</td>\n",
       "      <td>A Epic Drama of a Feminist And a Mad Scientist...</td>\n",
       "      <td>2006</td>\n",
       "      <td>6</td>\n",
       "      <td>86</td>\n",
       "      <td>20.99</td>\n",
       "      <td>PG</td>\n",
       "      <td>Deleted Scenes,Behind the Scenes</td>\n",
       "    </tr>\n",
       "    <tr>\n",
       "      <th>1</th>\n",
       "      <td>2</td>\n",
       "      <td>ACE GOLDFINGER</td>\n",
       "      <td>A Astounding Epistle of a Database Administrat...</td>\n",
       "      <td>2006</td>\n",
       "      <td>3</td>\n",
       "      <td>48</td>\n",
       "      <td>12.99</td>\n",
       "      <td>G</td>\n",
       "      <td>Trailers,Deleted Scenes</td>\n",
       "    </tr>\n",
       "    <tr>\n",
       "      <th>2</th>\n",
       "      <td>3</td>\n",
       "      <td>ADAPTATION HOLES</td>\n",
       "      <td>A Astounding Reflection of a Lumberjack And a ...</td>\n",
       "      <td>2006</td>\n",
       "      <td>7</td>\n",
       "      <td>50</td>\n",
       "      <td>18.99</td>\n",
       "      <td>NC-17</td>\n",
       "      <td>Trailers,Deleted Scenes</td>\n",
       "    </tr>\n",
       "    <tr>\n",
       "      <th>3</th>\n",
       "      <td>4</td>\n",
       "      <td>AFFAIR PREJUDICE</td>\n",
       "      <td>A Fanciful Documentary of a Frisbee And a Lumb...</td>\n",
       "      <td>2006</td>\n",
       "      <td>5</td>\n",
       "      <td>117</td>\n",
       "      <td>26.99</td>\n",
       "      <td>G</td>\n",
       "      <td>Commentaries,Behind the Scenes</td>\n",
       "    </tr>\n",
       "    <tr>\n",
       "      <th>4</th>\n",
       "      <td>5</td>\n",
       "      <td>AFRICAN EGG</td>\n",
       "      <td>A Fast-Paced Documentary of a Pastry Chef And ...</td>\n",
       "      <td>2006</td>\n",
       "      <td>6</td>\n",
       "      <td>130</td>\n",
       "      <td>22.99</td>\n",
       "      <td>G</td>\n",
       "      <td>Deleted Scenes</td>\n",
       "    </tr>\n",
       "  </tbody>\n",
       "</table>\n",
       "</div>"
      ],
      "text/plain": [
       "   film_id             title  \\\n",
       "0        1  ACADEMY DINOSAUR   \n",
       "1        2    ACE GOLDFINGER   \n",
       "2        3  ADAPTATION HOLES   \n",
       "3        4  AFFAIR PREJUDICE   \n",
       "4        5       AFRICAN EGG   \n",
       "\n",
       "                                         description  release_year  \\\n",
       "0  A Epic Drama of a Feminist And a Mad Scientist...          2006   \n",
       "1  A Astounding Epistle of a Database Administrat...          2006   \n",
       "2  A Astounding Reflection of a Lumberjack And a ...          2006   \n",
       "3  A Fanciful Documentary of a Frisbee And a Lumb...          2006   \n",
       "4  A Fast-Paced Documentary of a Pastry Chef And ...          2006   \n",
       "\n",
       "   rental_days  length  replacement_cost rating  \\\n",
       "0            6      86             20.99     PG   \n",
       "1            3      48             12.99      G   \n",
       "2            7      50             18.99  NC-17   \n",
       "3            5     117             26.99      G   \n",
       "4            6     130             22.99      G   \n",
       "\n",
       "                   special_features  \n",
       "0  Deleted Scenes,Behind the Scenes  \n",
       "1           Trailers,Deleted Scenes  \n",
       "2           Trailers,Deleted Scenes  \n",
       "3    Commentaries,Behind the Scenes  \n",
       "4                    Deleted Scenes  "
      ]
     },
     "execution_count": 33,
     "metadata": {},
     "output_type": "execute_result"
    }
   ],
   "source": [
    "film.head()"
   ]
  },
  {
   "cell_type": "code",
   "execution_count": 34,
   "id": "a97cd242-2c8e-4578-bd07-5e770f0050f2",
   "metadata": {
    "tags": []
   },
   "outputs": [],
   "source": [
    "# create a category column with the index of each category\n",
    "film['category'] = film.film_id.map(id_and_id)\n",
    "\n",
    "# Create second dictionary for category\n",
    "category.set_index('category_id', inplace=True)\n",
    "id_and_category = category.name.to_dict()\n",
    "\n",
    "# and substitute number for category\n",
    "film['category'] = film.category.map(id_and_category)"
   ]
  },
  {
   "cell_type": "code",
   "execution_count": 35,
   "id": "5cacac22-f68e-49ee-b94f-5fa155e1b522",
   "metadata": {
    "tags": []
   },
   "outputs": [
    {
     "data": {
      "text/html": [
       "<div>\n",
       "<style scoped>\n",
       "    .dataframe tbody tr th:only-of-type {\n",
       "        vertical-align: middle;\n",
       "    }\n",
       "\n",
       "    .dataframe tbody tr th {\n",
       "        vertical-align: top;\n",
       "    }\n",
       "\n",
       "    .dataframe thead th {\n",
       "        text-align: right;\n",
       "    }\n",
       "</style>\n",
       "<table border=\"1\" class=\"dataframe\">\n",
       "  <thead>\n",
       "    <tr style=\"text-align: right;\">\n",
       "      <th></th>\n",
       "      <th>film_id</th>\n",
       "      <th>title</th>\n",
       "      <th>description</th>\n",
       "      <th>release_year</th>\n",
       "      <th>rental_days</th>\n",
       "      <th>length</th>\n",
       "      <th>replacement_cost</th>\n",
       "      <th>rating</th>\n",
       "      <th>special_features</th>\n",
       "      <th>category</th>\n",
       "    </tr>\n",
       "  </thead>\n",
       "  <tbody>\n",
       "    <tr>\n",
       "      <th>0</th>\n",
       "      <td>1</td>\n",
       "      <td>ACADEMY DINOSAUR</td>\n",
       "      <td>A Epic Drama of a Feminist And a Mad Scientist...</td>\n",
       "      <td>2006</td>\n",
       "      <td>6</td>\n",
       "      <td>86</td>\n",
       "      <td>20.99</td>\n",
       "      <td>PG</td>\n",
       "      <td>Deleted Scenes,Behind the Scenes</td>\n",
       "      <td>Documentary</td>\n",
       "    </tr>\n",
       "    <tr>\n",
       "      <th>1</th>\n",
       "      <td>2</td>\n",
       "      <td>ACE GOLDFINGER</td>\n",
       "      <td>A Astounding Epistle of a Database Administrat...</td>\n",
       "      <td>2006</td>\n",
       "      <td>3</td>\n",
       "      <td>48</td>\n",
       "      <td>12.99</td>\n",
       "      <td>G</td>\n",
       "      <td>Trailers,Deleted Scenes</td>\n",
       "      <td>Horror</td>\n",
       "    </tr>\n",
       "    <tr>\n",
       "      <th>2</th>\n",
       "      <td>3</td>\n",
       "      <td>ADAPTATION HOLES</td>\n",
       "      <td>A Astounding Reflection of a Lumberjack And a ...</td>\n",
       "      <td>2006</td>\n",
       "      <td>7</td>\n",
       "      <td>50</td>\n",
       "      <td>18.99</td>\n",
       "      <td>NC-17</td>\n",
       "      <td>Trailers,Deleted Scenes</td>\n",
       "      <td>Documentary</td>\n",
       "    </tr>\n",
       "    <tr>\n",
       "      <th>3</th>\n",
       "      <td>4</td>\n",
       "      <td>AFFAIR PREJUDICE</td>\n",
       "      <td>A Fanciful Documentary of a Frisbee And a Lumb...</td>\n",
       "      <td>2006</td>\n",
       "      <td>5</td>\n",
       "      <td>117</td>\n",
       "      <td>26.99</td>\n",
       "      <td>G</td>\n",
       "      <td>Commentaries,Behind the Scenes</td>\n",
       "      <td>NaN</td>\n",
       "    </tr>\n",
       "    <tr>\n",
       "      <th>4</th>\n",
       "      <td>5</td>\n",
       "      <td>AFRICAN EGG</td>\n",
       "      <td>A Fast-Paced Documentary of a Pastry Chef And ...</td>\n",
       "      <td>2006</td>\n",
       "      <td>6</td>\n",
       "      <td>130</td>\n",
       "      <td>22.99</td>\n",
       "      <td>G</td>\n",
       "      <td>Deleted Scenes</td>\n",
       "      <td>NaN</td>\n",
       "    </tr>\n",
       "  </tbody>\n",
       "</table>\n",
       "</div>"
      ],
      "text/plain": [
       "   film_id             title  \\\n",
       "0        1  ACADEMY DINOSAUR   \n",
       "1        2    ACE GOLDFINGER   \n",
       "2        3  ADAPTATION HOLES   \n",
       "3        4  AFFAIR PREJUDICE   \n",
       "4        5       AFRICAN EGG   \n",
       "\n",
       "                                         description  release_year  \\\n",
       "0  A Epic Drama of a Feminist And a Mad Scientist...          2006   \n",
       "1  A Astounding Epistle of a Database Administrat...          2006   \n",
       "2  A Astounding Reflection of a Lumberjack And a ...          2006   \n",
       "3  A Fanciful Documentary of a Frisbee And a Lumb...          2006   \n",
       "4  A Fast-Paced Documentary of a Pastry Chef And ...          2006   \n",
       "\n",
       "   rental_days  length  replacement_cost rating  \\\n",
       "0            6      86             20.99     PG   \n",
       "1            3      48             12.99      G   \n",
       "2            7      50             18.99  NC-17   \n",
       "3            5     117             26.99      G   \n",
       "4            6     130             22.99      G   \n",
       "\n",
       "                   special_features     category  \n",
       "0  Deleted Scenes,Behind the Scenes  Documentary  \n",
       "1           Trailers,Deleted Scenes       Horror  \n",
       "2           Trailers,Deleted Scenes  Documentary  \n",
       "3    Commentaries,Behind the Scenes          NaN  \n",
       "4                    Deleted Scenes          NaN  "
      ]
     },
     "execution_count": 35,
     "metadata": {},
     "output_type": "execute_result"
    }
   ],
   "source": [
    "film.head()"
   ]
  },
  {
   "cell_type": "code",
   "execution_count": 36,
   "id": "81ae61c6-124a-4aaa-80bb-8209ce9d8c6d",
   "metadata": {
    "tags": []
   },
   "outputs": [],
   "source": [
    "# clean df now that it served its purpose\n",
    "df.drop('category_id', axis=1, inplace=True)"
   ]
  },
  {
   "cell_type": "code",
   "execution_count": 37,
   "id": "d131cf0e-807c-4b8c-befc-1da5bafa49b6",
   "metadata": {
    "tags": []
   },
   "outputs": [
    {
     "name": "stdout",
     "output_type": "stream",
     "text": [
      "<class 'pandas.core.frame.DataFrame'>\n",
      "RangeIndex: 1000 entries, 0 to 999\n",
      "Data columns (total 10 columns):\n",
      " #   Column            Non-Null Count  Dtype  \n",
      "---  ------            --------------  -----  \n",
      " 0   film_id           1000 non-null   int64  \n",
      " 1   title             1000 non-null   object \n",
      " 2   description       1000 non-null   object \n",
      " 3   release_year      1000 non-null   int64  \n",
      " 4   rental_days       1000 non-null   int64  \n",
      " 5   length            1000 non-null   int64  \n",
      " 6   replacement_cost  1000 non-null   float64\n",
      " 7   rating            1000 non-null   object \n",
      " 8   special_features  1000 non-null   object \n",
      " 9   category          614 non-null    object \n",
      "dtypes: float64(1), int64(4), object(5)\n",
      "memory usage: 78.3+ KB\n"
     ]
    }
   ],
   "source": [
    "# Check everything is ok\n",
    "film.info()"
   ]
  },
  {
   "cell_type": "markdown",
   "id": "745aee2d-44ce-4d28-97f0-07cd30586895",
   "metadata": {},
   "source": [
    "Not all movies were categorized correctly and some nul values were created. Dropping the rows wouldn't make sense as the category is not that important for inventory purposes, so we're going to change every `NaN` for `unknown`."
   ]
  },
  {
   "cell_type": "code",
   "execution_count": 38,
   "id": "07e7c656-0e38-4598-aac1-e88d191d840e",
   "metadata": {
    "tags": []
   },
   "outputs": [],
   "source": [
    "film.fillna('unknown', inplace=True)"
   ]
  },
  {
   "cell_type": "code",
   "execution_count": 39,
   "id": "2edeb20f-67a9-449c-a941-feeb7ab807be",
   "metadata": {
    "tags": []
   },
   "outputs": [
    {
     "name": "stdout",
     "output_type": "stream",
     "text": [
      "<class 'pandas.core.frame.DataFrame'>\n",
      "RangeIndex: 1000 entries, 0 to 999\n",
      "Data columns (total 2 columns):\n",
      " #   Column    Non-Null Count  Dtype\n",
      "---  ------    --------------  -----\n",
      " 0   actor_id  1000 non-null   int64\n",
      " 1   film_id   1000 non-null   int64\n",
      "dtypes: int64(2)\n",
      "memory usage: 15.8 KB\n"
     ]
    }
   ],
   "source": [
    "df.info()"
   ]
  },
  {
   "cell_type": "code",
   "execution_count": 40,
   "id": "72c94764-0614-445c-88e4-da1b9f6fd0d1",
   "metadata": {
    "tags": []
   },
   "outputs": [],
   "source": [
    "# no nulls nor weird values, so we can save them\n",
    "film.set_index('film_id', inplace=True)\n",
    "film.to_csv('../data/film.csv')\n",
    "\n",
    "df.set_index('actor_id', inplace=True)\n",
    "df.to_csv('../data/actor_film.csv')"
   ]
  }
 ],
 "metadata": {
  "kernelspec": {
   "display_name": "Python 3 (ipykernel)",
   "language": "python",
   "name": "python3"
  },
  "language_info": {
   "codemirror_mode": {
    "name": "ipython",
    "version": 3
   },
   "file_extension": ".py",
   "mimetype": "text/x-python",
   "name": "python",
   "nbconvert_exporter": "python",
   "pygments_lexer": "ipython3",
   "version": "3.11.4"
  }
 },
 "nbformat": 4,
 "nbformat_minor": 5
}
