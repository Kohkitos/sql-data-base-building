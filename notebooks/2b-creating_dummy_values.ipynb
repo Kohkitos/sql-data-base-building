{
 "cells": [
  {
   "cell_type": "markdown",
   "id": "821da6ac-7208-4ff2-ae28-6d496d940efd",
   "metadata": {},
   "source": [
    "# Creating dummy values"
   ]
  },
  {
   "cell_type": "markdown",
   "id": "e7137b68-37c4-4a8e-b1bf-897bdf014bb8",
   "metadata": {},
   "source": [
    "Some time has passed since we created the database and now some customes have been (surprisingly) using the store's services and we have some data about them.\n"
   ]
  },
  {
   "cell_type": "markdown",
   "id": "ea4cecea-e50c-4fbe-abbb-7ffd9efd8596",
   "metadata": {},
   "source": [
    "## Process\n",
    "\n",
    "We're going to add dummy values to the `rental` and `customer` tables (like we did in the `store` table) so that we can de more complex queries in the final part of the project.\n",
    "\n",
    "+ `customer`: using a couple libraries, we're going to add some random values to the table.\n",
    "+ `rental`: we're going to use the original `rental.csv`, cleaning it and changing the date values so that it makes sense and randomnly changing the `customer_id` with the ids we've created on the previous steps"
   ]
  },
  {
   "cell_type": "code",
   "execution_count": 1,
   "id": "282625fd-6c64-4e72-ab12-d9aba3cdb904",
   "metadata": {
    "tags": []
   },
   "outputs": [],
   "source": [
    "# Necessary installs\n",
    "\n",
    "# %pip install faker"
   ]
  },
  {
   "cell_type": "code",
   "execution_count": 2,
   "id": "f4c89e8c-1931-4ed3-90eb-ebda7f0803b0",
   "metadata": {
    "tags": []
   },
   "outputs": [],
   "source": [
    "# libraries\n",
    "import pandas as pd\n",
    "pd.set_option('display.max_columns', None)\n",
    "\n",
    "import numpy as np\n",
    "\n",
    "import mysql.connector\n",
    "from sqlalchemy import create_engine\n",
    "from passwords import CURSOR\n",
    "\n",
    "import warnings\n",
    "warnings.filterwarnings('ignore')\n",
    "\n",
    "import random as rd\n",
    "from faker import Faker\n",
    "\n",
    "import sys\n",
    "sys.path.insert(1, '../')\n",
    "\n",
    "from src import format_phone_number"
   ]
  },
  {
   "cell_type": "markdown",
   "id": "7a15098e-7f39-4000-b6af-eb2e0291ec8a",
   "metadata": {},
   "source": [
    "## Filling customer table"
   ]
  },
  {
   "cell_type": "code",
   "execution_count": 3,
   "id": "daef7f02-6ef3-43dc-847b-45220d24f1cb",
   "metadata": {
    "tags": []
   },
   "outputs": [
    {
     "data": {
      "text/html": [
       "<div>\n",
       "<style scoped>\n",
       "    .dataframe tbody tr th:only-of-type {\n",
       "        vertical-align: middle;\n",
       "    }\n",
       "\n",
       "    .dataframe tbody tr th {\n",
       "        vertical-align: top;\n",
       "    }\n",
       "\n",
       "    .dataframe thead th {\n",
       "        text-align: right;\n",
       "    }\n",
       "</style>\n",
       "<table border=\"1\" class=\"dataframe\">\n",
       "  <thead>\n",
       "    <tr style=\"text-align: right;\">\n",
       "      <th></th>\n",
       "      <th>customer_id</th>\n",
       "      <th>first_name</th>\n",
       "      <th>last_name</th>\n",
       "      <th>email</th>\n",
       "      <th>phone_number</th>\n",
       "      <th>gender</th>\n",
       "      <th>location</th>\n",
       "    </tr>\n",
       "  </thead>\n",
       "  <tbody>\n",
       "  </tbody>\n",
       "</table>\n",
       "</div>"
      ],
      "text/plain": [
       "Empty DataFrame\n",
       "Columns: [customer_id, first_name, last_name, email, phone_number, gender, location]\n",
       "Index: []"
      ]
     },
     "execution_count": 3,
     "metadata": {},
     "output_type": "execute_result"
    }
   ],
   "source": [
    "# fetch the dable from sql\n",
    "          \n",
    "sql_query = pd.read_sql_query (\n",
    "                                '''\n",
    "                               SELECT\n",
    "                               *\n",
    "                               FROM customer\n",
    "                               '''\n",
    "                                , CURSOR)\n",
    "\n",
    "df = pd.DataFrame(sql_query)\n",
    "\n",
    "df"
   ]
  },
  {
   "cell_type": "code",
   "execution_count": 4,
   "id": "df787c1a-0f91-439a-a271-aa4c676ed184",
   "metadata": {
    "tags": []
   },
   "outputs": [
    {
     "data": {
      "text/plain": [
       "'c'"
      ]
     },
     "execution_count": 4,
     "metadata": {},
     "output_type": "execute_result"
    }
   ],
   "source": [
    "['a', 'b', 'c'][rd.randint(0, 2)]"
   ]
  },
  {
   "cell_type": "code",
   "execution_count": 5,
   "id": "702ed212-b3a6-4eec-b867-6a40c0b12786",
   "metadata": {},
   "outputs": [],
   "source": [
    "# we're going to create 25 dummy costumers\n",
    "\n",
    "# set faker to get random spanish values\n",
    "fake = Faker('es_ES')\n",
    "\n",
    "# i + 1 will be the index\n",
    "for i in range(25):\n",
    "    # generate random gender\n",
    "    gender = ['male', 'female', 'non-binary'][rd.randint(0,2)]\n",
    "    \n",
    "    # assign names depending on gender\n",
    "    if gender == 'male':\n",
    "        fname = fake.first_name_male()\n",
    "        \n",
    "    elif gender == 'female':\n",
    "        fname = fake.first_name_female()\n",
    "    \n",
    "    else:\n",
    "        fname = fake.first_name()\n",
    "        \n",
    "    lname = fake.last_name() + ' ' + fake.last_name()\n",
    "        \n",
    "    # creating dummy data with faker    \n",
    "    location = fake.address()\n",
    "    phone = fake.phone_number()\n",
    "    email_domain = fake.domain_name()\n",
    "    mail = f\"{fname.lower()}.{lname.split()[0].lower()}@{email_domain}\"\n",
    "    \n",
    "    # and append everything\n",
    "    df.loc[i] = [i+1, fname, lname, mail, phone, gender, location]\n",
    "    \n",
    "    "
   ]
  },
  {
   "cell_type": "code",
   "execution_count": 9,
   "id": "e9091382-a5c1-4f14-9336-08c4330e5d4e",
   "metadata": {
    "tags": []
   },
   "outputs": [
    {
     "data": {
      "text/html": [
       "<div>\n",
       "<style scoped>\n",
       "    .dataframe tbody tr th:only-of-type {\n",
       "        vertical-align: middle;\n",
       "    }\n",
       "\n",
       "    .dataframe tbody tr th {\n",
       "        vertical-align: top;\n",
       "    }\n",
       "\n",
       "    .dataframe thead th {\n",
       "        text-align: right;\n",
       "    }\n",
       "</style>\n",
       "<table border=\"1\" class=\"dataframe\">\n",
       "  <thead>\n",
       "    <tr style=\"text-align: right;\">\n",
       "      <th></th>\n",
       "      <th>customer_id</th>\n",
       "      <th>first_name</th>\n",
       "      <th>last_name</th>\n",
       "      <th>email</th>\n",
       "      <th>phone_number</th>\n",
       "      <th>gender</th>\n",
       "      <th>location</th>\n",
       "    </tr>\n",
       "  </thead>\n",
       "  <tbody>\n",
       "    <tr>\n",
       "      <th>0</th>\n",
       "      <td>1</td>\n",
       "      <td>Vinicio</td>\n",
       "      <td>Nuñez Pelayo</td>\n",
       "      <td>vinicio.nuñez@landa.com</td>\n",
       "      <td>+34 758 511 35</td>\n",
       "      <td>male</td>\n",
       "      <td>Ronda de Gabino Vilar 84\\nAsturias, 03626</td>\n",
       "    </tr>\n",
       "    <tr>\n",
       "      <th>1</th>\n",
       "      <td>2</td>\n",
       "      <td>Ana Belén</td>\n",
       "      <td>Ródenas Escolano</td>\n",
       "      <td>ana belén.ródenas@gutierrez.net</td>\n",
       "      <td>+34 784 417 64</td>\n",
       "      <td>female</td>\n",
       "      <td>Ronda Isabela Muñoz 47\\nMadrid, 37112</td>\n",
       "    </tr>\n",
       "    <tr>\n",
       "      <th>2</th>\n",
       "      <td>3</td>\n",
       "      <td>Gabriel</td>\n",
       "      <td>Matas Sanabria</td>\n",
       "      <td>gabriel.matas@palacios.com</td>\n",
       "      <td>+34 432 206 19</td>\n",
       "      <td>male</td>\n",
       "      <td>Vial de Horacio Reguera 65 Puerta 3 \\nValencia...</td>\n",
       "    </tr>\n",
       "    <tr>\n",
       "      <th>3</th>\n",
       "      <td>4</td>\n",
       "      <td>Edmundo</td>\n",
       "      <td>Arnau Nebot</td>\n",
       "      <td>edmundo.arnau@aguado.com</td>\n",
       "      <td>+34 265 775 21</td>\n",
       "      <td>male</td>\n",
       "      <td>Glorieta de Palmira Vara 40 Piso 9 \\nCáceres, ...</td>\n",
       "    </tr>\n",
       "    <tr>\n",
       "      <th>4</th>\n",
       "      <td>5</td>\n",
       "      <td>Mónica</td>\n",
       "      <td>Tamarit Pomares</td>\n",
       "      <td>mónica.tamarit@miralles-carballo.es</td>\n",
       "      <td>+34 843 412 97</td>\n",
       "      <td>female</td>\n",
       "      <td>Alameda de Adelaida Bauzà 5\\nBurgos, 02699</td>\n",
       "    </tr>\n",
       "    <tr>\n",
       "      <th>5</th>\n",
       "      <td>6</td>\n",
       "      <td>Cipriano</td>\n",
       "      <td>Cerro Ramón</td>\n",
       "      <td>cipriano.cerro@roda.com</td>\n",
       "      <td>+34 438 546 09</td>\n",
       "      <td>non-binary</td>\n",
       "      <td>Avenida de José Mari Palacio 78 Apt. 60 \\nOure...</td>\n",
       "    </tr>\n",
       "    <tr>\n",
       "      <th>6</th>\n",
       "      <td>7</td>\n",
       "      <td>Delia</td>\n",
       "      <td>Quiroga Cañete</td>\n",
       "      <td>delia.quiroga@arce.es</td>\n",
       "      <td>+34 845 971 54</td>\n",
       "      <td>female</td>\n",
       "      <td>C. de Isaura Serrano 65\\nTarragona, 37284</td>\n",
       "    </tr>\n",
       "    <tr>\n",
       "      <th>7</th>\n",
       "      <td>8</td>\n",
       "      <td>Duilio</td>\n",
       "      <td>Corral Amo</td>\n",
       "      <td>duilio.corral@cuenca-alegria.org</td>\n",
       "      <td>+34 389 711 92</td>\n",
       "      <td>male</td>\n",
       "      <td>Camino Adelia Egea 61\\nZamora, 40752</td>\n",
       "    </tr>\n",
       "    <tr>\n",
       "      <th>8</th>\n",
       "      <td>9</td>\n",
       "      <td>Adelaida</td>\n",
       "      <td>Zurita Crespi</td>\n",
       "      <td>adelaida.zurita@heredia.es</td>\n",
       "      <td>+34 465 070 51</td>\n",
       "      <td>female</td>\n",
       "      <td>Calle de Natalia Villegas 545 Apt. 16 \\nValenc...</td>\n",
       "    </tr>\n",
       "    <tr>\n",
       "      <th>9</th>\n",
       "      <td>10</td>\n",
       "      <td>Lucía</td>\n",
       "      <td>Rojas Araujo</td>\n",
       "      <td>lucía.rojas@gallego-vilaplana.org</td>\n",
       "      <td>+34 729 248 17</td>\n",
       "      <td>female</td>\n",
       "      <td>Cuesta de Ale Malo 14\\nOurense, 11209</td>\n",
       "    </tr>\n",
       "  </tbody>\n",
       "</table>\n",
       "</div>"
      ],
      "text/plain": [
       "   customer_id first_name         last_name  \\\n",
       "0            1    Vinicio      Nuñez Pelayo   \n",
       "1            2  Ana Belén  Ródenas Escolano   \n",
       "2            3    Gabriel    Matas Sanabria   \n",
       "3            4    Edmundo       Arnau Nebot   \n",
       "4            5     Mónica   Tamarit Pomares   \n",
       "5            6   Cipriano       Cerro Ramón   \n",
       "6            7      Delia    Quiroga Cañete   \n",
       "7            8     Duilio        Corral Amo   \n",
       "8            9   Adelaida     Zurita Crespi   \n",
       "9           10      Lucía      Rojas Araujo   \n",
       "\n",
       "                                 email    phone_number      gender  \\\n",
       "0              vinicio.nuñez@landa.com  +34 758 511 35        male   \n",
       "1      ana belén.ródenas@gutierrez.net  +34 784 417 64      female   \n",
       "2           gabriel.matas@palacios.com  +34 432 206 19        male   \n",
       "3             edmundo.arnau@aguado.com  +34 265 775 21        male   \n",
       "4  mónica.tamarit@miralles-carballo.es  +34 843 412 97      female   \n",
       "5              cipriano.cerro@roda.com  +34 438 546 09  non-binary   \n",
       "6                delia.quiroga@arce.es  +34 845 971 54      female   \n",
       "7     duilio.corral@cuenca-alegria.org  +34 389 711 92        male   \n",
       "8           adelaida.zurita@heredia.es  +34 465 070 51      female   \n",
       "9    lucía.rojas@gallego-vilaplana.org  +34 729 248 17      female   \n",
       "\n",
       "                                            location  \n",
       "0          Ronda de Gabino Vilar 84\\nAsturias, 03626  \n",
       "1              Ronda Isabela Muñoz 47\\nMadrid, 37112  \n",
       "2  Vial de Horacio Reguera 65 Puerta 3 \\nValencia...  \n",
       "3  Glorieta de Palmira Vara 40 Piso 9 \\nCáceres, ...  \n",
       "4         Alameda de Adelaida Bauzà 5\\nBurgos, 02699  \n",
       "5  Avenida de José Mari Palacio 78 Apt. 60 \\nOure...  \n",
       "6          C. de Isaura Serrano 65\\nTarragona, 37284  \n",
       "7               Camino Adelia Egea 61\\nZamora, 40752  \n",
       "8  Calle de Natalia Villegas 545 Apt. 16 \\nValenc...  \n",
       "9              Cuesta de Ale Malo 14\\nOurense, 11209  "
      ]
     },
     "execution_count": 9,
     "metadata": {},
     "output_type": "execute_result"
    }
   ],
   "source": [
    "df.head(10)"
   ]
  },
  {
   "cell_type": "code",
   "execution_count": 7,
   "id": "add4aa57-933d-4113-beb0-32d6ff4dc99c",
   "metadata": {
    "tags": []
   },
   "outputs": [
    {
     "name": "stdout",
     "output_type": "stream",
     "text": [
      "Help on function format_phone_number in module src:\n",
      "\n",
      "format_phone_number(phone)\n",
      "    Returns the phone number introduced to the standar Spanish format \"+34 XXX XXX XXX\".\n",
      "    \n",
      "    Arguments:\n",
      "        phone: a string of a phone number with or without '+' and with or without 34 at the beggining (it will be added if it doesn't have it).\n",
      "                \n",
      "                If the string is not digit, the function will not register it as an error and will return unexpected values.\n",
      "        \n",
      "    Returns:\n",
      "        formatted_phone: a string with the formatted phone like this \"+34 XXX XXX XXX\"\n",
      "\n"
     ]
    }
   ],
   "source": [
    "help(format_phone_number)"
   ]
  },
  {
   "cell_type": "code",
   "execution_count": 8,
   "id": "71d0543b-fb10-40f4-8c9e-d328239760ea",
   "metadata": {
    "tags": []
   },
   "outputs": [
    {
     "data": {
      "text/html": [
       "<div>\n",
       "<style scoped>\n",
       "    .dataframe tbody tr th:only-of-type {\n",
       "        vertical-align: middle;\n",
       "    }\n",
       "\n",
       "    .dataframe tbody tr th {\n",
       "        vertical-align: top;\n",
       "    }\n",
       "\n",
       "    .dataframe thead th {\n",
       "        text-align: right;\n",
       "    }\n",
       "</style>\n",
       "<table border=\"1\" class=\"dataframe\">\n",
       "  <thead>\n",
       "    <tr style=\"text-align: right;\">\n",
       "      <th></th>\n",
       "      <th>customer_id</th>\n",
       "      <th>first_name</th>\n",
       "      <th>last_name</th>\n",
       "      <th>email</th>\n",
       "      <th>phone_number</th>\n",
       "      <th>gender</th>\n",
       "      <th>location</th>\n",
       "    </tr>\n",
       "  </thead>\n",
       "  <tbody>\n",
       "    <tr>\n",
       "      <th>0</th>\n",
       "      <td>1</td>\n",
       "      <td>Vinicio</td>\n",
       "      <td>Nuñez Pelayo</td>\n",
       "      <td>vinicio.nuñez@landa.com</td>\n",
       "      <td>+34 758 511 35</td>\n",
       "      <td>male</td>\n",
       "      <td>Ronda de Gabino Vilar 84\\nAsturias, 03626</td>\n",
       "    </tr>\n",
       "    <tr>\n",
       "      <th>1</th>\n",
       "      <td>2</td>\n",
       "      <td>Ana Belén</td>\n",
       "      <td>Ródenas Escolano</td>\n",
       "      <td>ana belén.ródenas@gutierrez.net</td>\n",
       "      <td>+34 784 417 64</td>\n",
       "      <td>female</td>\n",
       "      <td>Ronda Isabela Muñoz 47\\nMadrid, 37112</td>\n",
       "    </tr>\n",
       "    <tr>\n",
       "      <th>2</th>\n",
       "      <td>3</td>\n",
       "      <td>Gabriel</td>\n",
       "      <td>Matas Sanabria</td>\n",
       "      <td>gabriel.matas@palacios.com</td>\n",
       "      <td>+34 432 206 19</td>\n",
       "      <td>male</td>\n",
       "      <td>Vial de Horacio Reguera 65 Puerta 3 \\nValencia...</td>\n",
       "    </tr>\n",
       "    <tr>\n",
       "      <th>3</th>\n",
       "      <td>4</td>\n",
       "      <td>Edmundo</td>\n",
       "      <td>Arnau Nebot</td>\n",
       "      <td>edmundo.arnau@aguado.com</td>\n",
       "      <td>+34 265 775 21</td>\n",
       "      <td>male</td>\n",
       "      <td>Glorieta de Palmira Vara 40 Piso 9 \\nCáceres, ...</td>\n",
       "    </tr>\n",
       "    <tr>\n",
       "      <th>4</th>\n",
       "      <td>5</td>\n",
       "      <td>Mónica</td>\n",
       "      <td>Tamarit Pomares</td>\n",
       "      <td>mónica.tamarit@miralles-carballo.es</td>\n",
       "      <td>+34 843 412 97</td>\n",
       "      <td>female</td>\n",
       "      <td>Alameda de Adelaida Bauzà 5\\nBurgos, 02699</td>\n",
       "    </tr>\n",
       "  </tbody>\n",
       "</table>\n",
       "</div>"
      ],
      "text/plain": [
       "   customer_id first_name         last_name  \\\n",
       "0            1    Vinicio      Nuñez Pelayo   \n",
       "1            2  Ana Belén  Ródenas Escolano   \n",
       "2            3    Gabriel    Matas Sanabria   \n",
       "3            4    Edmundo       Arnau Nebot   \n",
       "4            5     Mónica   Tamarit Pomares   \n",
       "\n",
       "                                 email    phone_number  gender  \\\n",
       "0              vinicio.nuñez@landa.com  +34 758 511 35    male   \n",
       "1      ana belén.ródenas@gutierrez.net  +34 784 417 64  female   \n",
       "2           gabriel.matas@palacios.com  +34 432 206 19    male   \n",
       "3             edmundo.arnau@aguado.com  +34 265 775 21    male   \n",
       "4  mónica.tamarit@miralles-carballo.es  +34 843 412 97  female   \n",
       "\n",
       "                                            location  \n",
       "0          Ronda de Gabino Vilar 84\\nAsturias, 03626  \n",
       "1              Ronda Isabela Muñoz 47\\nMadrid, 37112  \n",
       "2  Vial de Horacio Reguera 65 Puerta 3 \\nValencia...  \n",
       "3  Glorieta de Palmira Vara 40 Piso 9 \\nCáceres, ...  \n",
       "4         Alameda de Adelaida Bauzà 5\\nBurgos, 02699  "
      ]
     },
     "execution_count": 8,
     "metadata": {},
     "output_type": "execute_result"
    }
   ],
   "source": [
    "# Apply the function to the 'Phone' column\n",
    "df.phone_number = df.phone_number.apply(format_phone_number)\n",
    "\n",
    "df.head()"
   ]
  },
  {
   "cell_type": "code",
   "execution_count": 11,
   "id": "92e1745d-5962-4e11-8e84-0271a2bd8f04",
   "metadata": {
    "tags": []
   },
   "outputs": [
    {
     "data": {
      "text/plain": [
       "25"
      ]
     },
     "execution_count": 11,
     "metadata": {},
     "output_type": "execute_result"
    }
   ],
   "source": [
    "# and now we append all the dummy data\n",
    "df.to_sql(name='customer',\n",
    "          con=CURSOR,\n",
    "          if_exists='append',\n",
    "          index=False)"
   ]
  },
  {
   "cell_type": "code",
   "execution_count": null,
   "id": "98700c21-58e9-473e-80c3-62057424eed9",
   "metadata": {},
   "outputs": [],
   "source": []
  }
 ],
 "metadata": {
  "kernelspec": {
   "display_name": "Python 3 (ipykernel)",
   "language": "python",
   "name": "python3"
  },
  "language_info": {
   "codemirror_mode": {
    "name": "ipython",
    "version": 3
   },
   "file_extension": ".py",
   "mimetype": "text/x-python",
   "name": "python",
   "nbconvert_exporter": "python",
   "pygments_lexer": "ipython3",
   "version": "3.11.4"
  }
 },
 "nbformat": 4,
 "nbformat_minor": 5
}
