{
 "cells": [
  {
   "cell_type": "markdown",
   "id": "821da6ac-7208-4ff2-ae28-6d496d940efd",
   "metadata": {},
   "source": [
    "# Creating dummy values"
   ]
  },
  {
   "cell_type": "markdown",
   "id": "e7137b68-37c4-4a8e-b1bf-897bdf014bb8",
   "metadata": {},
   "source": [
    "Some time has passed since we created the database and now some customes have been (surprisingly) using the store's services and we have some data about them.\n"
   ]
  },
  {
   "cell_type": "markdown",
   "id": "ea4cecea-e50c-4fbe-abbb-7ffd9efd8596",
   "metadata": {},
   "source": [
    "## Process\n",
    "\n",
    "We're going to add dummy values to the `rental` and `customer` tables (like we did in the `store` table) so that we can de more complex queries in the final part of the project.\n",
    "\n",
    "+ `customer`: using a couple libraries, we're going to add some random values to the table.\n",
    "+ `rental`: we're going to use the original `rental.csv`, cleaning it and changing the date values so that it makes sense and randomnly changing the `customer_id` with the ids we've created on the previous steps"
   ]
  },
  {
   "cell_type": "code",
   "execution_count": 1,
   "id": "282625fd-6c64-4e72-ab12-d9aba3cdb904",
   "metadata": {
    "tags": []
   },
   "outputs": [],
   "source": [
    "# Necessary installs\n",
    "\n",
    "# %pip install faker"
   ]
  },
  {
   "cell_type": "code",
   "execution_count": 2,
   "id": "f4c89e8c-1931-4ed3-90eb-ebda7f0803b0",
   "metadata": {
    "tags": []
   },
   "outputs": [],
   "source": [
    "# libraries\n",
    "import pandas as pd\n",
    "pd.set_option('display.max_columns', None)\n",
    "\n",
    "import numpy as np\n",
    "\n",
    "import mysql.connector\n",
    "from sqlalchemy import create_engine\n",
    "from passwords import CURSOR\n",
    "\n",
    "import warnings\n",
    "warnings.filterwarnings('ignore')\n",
    "\n",
    "import random as rd\n",
    "from faker import Faker\n",
    "\n",
    "import sys\n",
    "sys.path.insert(1, '../')\n",
    "\n",
    "from src import format_phone_number"
   ]
  },
  {
   "cell_type": "markdown",
   "id": "7a15098e-7f39-4000-b6af-eb2e0291ec8a",
   "metadata": {},
   "source": [
    "## Filling customer table"
   ]
  },
  {
   "cell_type": "code",
   "execution_count": 3,
   "id": "daef7f02-6ef3-43dc-847b-45220d24f1cb",
   "metadata": {
    "tags": []
   },
   "outputs": [
    {
     "data": {
      "text/html": [
       "<div>\n",
       "<style scoped>\n",
       "    .dataframe tbody tr th:only-of-type {\n",
       "        vertical-align: middle;\n",
       "    }\n",
       "\n",
       "    .dataframe tbody tr th {\n",
       "        vertical-align: top;\n",
       "    }\n",
       "\n",
       "    .dataframe thead th {\n",
       "        text-align: right;\n",
       "    }\n",
       "</style>\n",
       "<table border=\"1\" class=\"dataframe\">\n",
       "  <thead>\n",
       "    <tr style=\"text-align: right;\">\n",
       "      <th></th>\n",
       "      <th>customer_id</th>\n",
       "      <th>first_name</th>\n",
       "      <th>last_name</th>\n",
       "      <th>email</th>\n",
       "      <th>phone_number</th>\n",
       "      <th>gender</th>\n",
       "      <th>location</th>\n",
       "    </tr>\n",
       "  </thead>\n",
       "  <tbody>\n",
       "  </tbody>\n",
       "</table>\n",
       "</div>"
      ],
      "text/plain": [
       "Empty DataFrame\n",
       "Columns: [customer_id, first_name, last_name, email, phone_number, gender, location]\n",
       "Index: []"
      ]
     },
     "execution_count": 3,
     "metadata": {},
     "output_type": "execute_result"
    }
   ],
   "source": [
    "# fetch the dable from sql\n",
    "          \n",
    "sql_query = pd.read_sql_query (\n",
    "                                '''\n",
    "                               SELECT\n",
    "                               *\n",
    "                               FROM customer\n",
    "                               '''\n",
    "                                , CURSOR)\n",
    "\n",
    "df = pd.DataFrame(sql_query)\n",
    "\n",
    "df"
   ]
  },
  {
   "cell_type": "code",
   "execution_count": 5,
   "id": "702ed212-b3a6-4eec-b867-6a40c0b12786",
   "metadata": {},
   "outputs": [],
   "source": [
    "# we're going to create 25 dummy costumers\n",
    "\n",
    "# set faker to get random spanish values\n",
    "fake = Faker('es_ES')\n",
    "\n",
    "# i + 1 will be the index\n",
    "for i in range(25):\n",
    "    # generate random gender\n",
    "    gender = ['male', 'female', 'non-binary'][rd.randint(0,2)]\n",
    "    \n",
    "    # assign names depending on gender\n",
    "    if gender == 'male':\n",
    "        fname = fake.first_name_male()\n",
    "        \n",
    "    elif gender == 'female':\n",
    "        fname = fake.first_name_female()\n",
    "    \n",
    "    else:\n",
    "        fname = fake.first_name()\n",
    "        \n",
    "    lname = fake.last_name() + ' ' + fake.last_name()\n",
    "        \n",
    "    # creating dummy data with faker    \n",
    "    location = fake.address()\n",
    "    phone = fake.phone_number()\n",
    "    email_domain = fake.domain_name()\n",
    "    mail = f\"{fname.lower()}.{lname.split()[0].lower()}@{email_domain}\"\n",
    "    \n",
    "    # and append everything\n",
    "    df.loc[i] = [i+1, fname, lname, mail, phone, gender, location]\n",
    "    \n",
    "    "
   ]
  },
  {
   "cell_type": "code",
   "execution_count": 6,
   "id": "e9091382-a5c1-4f14-9336-08c4330e5d4e",
   "metadata": {
    "tags": []
   },
   "outputs": [
    {
     "data": {
      "text/html": [
       "<div>\n",
       "<style scoped>\n",
       "    .dataframe tbody tr th:only-of-type {\n",
       "        vertical-align: middle;\n",
       "    }\n",
       "\n",
       "    .dataframe tbody tr th {\n",
       "        vertical-align: top;\n",
       "    }\n",
       "\n",
       "    .dataframe thead th {\n",
       "        text-align: right;\n",
       "    }\n",
       "</style>\n",
       "<table border=\"1\" class=\"dataframe\">\n",
       "  <thead>\n",
       "    <tr style=\"text-align: right;\">\n",
       "      <th></th>\n",
       "      <th>customer_id</th>\n",
       "      <th>first_name</th>\n",
       "      <th>last_name</th>\n",
       "      <th>email</th>\n",
       "      <th>phone_number</th>\n",
       "      <th>gender</th>\n",
       "      <th>location</th>\n",
       "    </tr>\n",
       "  </thead>\n",
       "  <tbody>\n",
       "    <tr>\n",
       "      <th>0</th>\n",
       "      <td>1</td>\n",
       "      <td>Carina</td>\n",
       "      <td>Puga Nicolau</td>\n",
       "      <td>carina.puga@belda-iglesia.com</td>\n",
       "      <td>+34 856422945</td>\n",
       "      <td>female</td>\n",
       "      <td>Vial Augusto Palacio 49 Puerta 3 \\nVizcaya, 37278</td>\n",
       "    </tr>\n",
       "    <tr>\n",
       "      <th>1</th>\n",
       "      <td>2</td>\n",
       "      <td>Nazario</td>\n",
       "      <td>Moll Carlos</td>\n",
       "      <td>nazario.moll@vilar.org</td>\n",
       "      <td>+34928 81 71 83</td>\n",
       "      <td>male</td>\n",
       "      <td>Calle de Federico Osuna 81 Puerta 1 \\nOurense,...</td>\n",
       "    </tr>\n",
       "    <tr>\n",
       "      <th>2</th>\n",
       "      <td>3</td>\n",
       "      <td>Osvaldo</td>\n",
       "      <td>Villalonga Gallo</td>\n",
       "      <td>osvaldo.villalonga@sanz.com</td>\n",
       "      <td>+34 875781066</td>\n",
       "      <td>male</td>\n",
       "      <td>Acceso de Vidal Torrijos 98\\nSanta Cruz de Ten...</td>\n",
       "    </tr>\n",
       "    <tr>\n",
       "      <th>3</th>\n",
       "      <td>4</td>\n",
       "      <td>Faustino</td>\n",
       "      <td>Molina Luque</td>\n",
       "      <td>faustino.molina@uriarte-gallart.com</td>\n",
       "      <td>+34985 032 806</td>\n",
       "      <td>male</td>\n",
       "      <td>C. de Sol Morante 85\\nNavarra, 13633</td>\n",
       "    </tr>\n",
       "    <tr>\n",
       "      <th>4</th>\n",
       "      <td>5</td>\n",
       "      <td>Carlito</td>\n",
       "      <td>Almazán Castañeda</td>\n",
       "      <td>carlito.almazán@cabo.org</td>\n",
       "      <td>+34885 027 911</td>\n",
       "      <td>male</td>\n",
       "      <td>Pasaje de Federico Anglada 30\\nÁvila, 13980</td>\n",
       "    </tr>\n",
       "    <tr>\n",
       "      <th>5</th>\n",
       "      <td>6</td>\n",
       "      <td>Esperanza</td>\n",
       "      <td>Rivera Ferrando</td>\n",
       "      <td>esperanza.rivera@benet.com</td>\n",
       "      <td>+34 977 732 020</td>\n",
       "      <td>female</td>\n",
       "      <td>Via de René Girón 216 Puerta 3 \\nToledo, 30642</td>\n",
       "    </tr>\n",
       "    <tr>\n",
       "      <th>6</th>\n",
       "      <td>7</td>\n",
       "      <td>Casemiro</td>\n",
       "      <td>Gallart Almazán</td>\n",
       "      <td>casemiro.gallart@pujol.es</td>\n",
       "      <td>+34815602095</td>\n",
       "      <td>male</td>\n",
       "      <td>Rambla de Chelo Peñas 93 Puerta 5 \\nÁlava, 18425</td>\n",
       "    </tr>\n",
       "    <tr>\n",
       "      <th>7</th>\n",
       "      <td>8</td>\n",
       "      <td>Esteban</td>\n",
       "      <td>Lastra Marín</td>\n",
       "      <td>esteban.lastra@manrique.org</td>\n",
       "      <td>+34 826 965 403</td>\n",
       "      <td>male</td>\n",
       "      <td>Alameda Amor Río 874 Piso 7 \\nÁlava, 36857</td>\n",
       "    </tr>\n",
       "    <tr>\n",
       "      <th>8</th>\n",
       "      <td>9</td>\n",
       "      <td>Cayetano</td>\n",
       "      <td>Fuentes Echeverría</td>\n",
       "      <td>cayetano.fuentes@alvarez.com</td>\n",
       "      <td>+34 873 753 515</td>\n",
       "      <td>non-binary</td>\n",
       "      <td>Urbanización de Godofredo Barrera 88 Apt. 31 \\...</td>\n",
       "    </tr>\n",
       "    <tr>\n",
       "      <th>9</th>\n",
       "      <td>10</td>\n",
       "      <td>Glauco</td>\n",
       "      <td>Giralt Pérez</td>\n",
       "      <td>glauco.giralt@estevez.es</td>\n",
       "      <td>+34 985 34 06 01</td>\n",
       "      <td>male</td>\n",
       "      <td>Cañada de Adriana Ibañez 47\\nZamora, 03005</td>\n",
       "    </tr>\n",
       "  </tbody>\n",
       "</table>\n",
       "</div>"
      ],
      "text/plain": [
       "   customer_id first_name           last_name  \\\n",
       "0            1     Carina        Puga Nicolau   \n",
       "1            2    Nazario         Moll Carlos   \n",
       "2            3    Osvaldo    Villalonga Gallo   \n",
       "3            4   Faustino        Molina Luque   \n",
       "4            5    Carlito   Almazán Castañeda   \n",
       "5            6  Esperanza     Rivera Ferrando   \n",
       "6            7   Casemiro     Gallart Almazán   \n",
       "7            8    Esteban        Lastra Marín   \n",
       "8            9   Cayetano  Fuentes Echeverría   \n",
       "9           10     Glauco        Giralt Pérez   \n",
       "\n",
       "                                 email      phone_number      gender  \\\n",
       "0        carina.puga@belda-iglesia.com     +34 856422945      female   \n",
       "1               nazario.moll@vilar.org   +34928 81 71 83        male   \n",
       "2          osvaldo.villalonga@sanz.com     +34 875781066        male   \n",
       "3  faustino.molina@uriarte-gallart.com    +34985 032 806        male   \n",
       "4             carlito.almazán@cabo.org    +34885 027 911        male   \n",
       "5           esperanza.rivera@benet.com   +34 977 732 020      female   \n",
       "6            casemiro.gallart@pujol.es      +34815602095        male   \n",
       "7          esteban.lastra@manrique.org   +34 826 965 403        male   \n",
       "8         cayetano.fuentes@alvarez.com   +34 873 753 515  non-binary   \n",
       "9             glauco.giralt@estevez.es  +34 985 34 06 01        male   \n",
       "\n",
       "                                            location  \n",
       "0  Vial Augusto Palacio 49 Puerta 3 \\nVizcaya, 37278  \n",
       "1  Calle de Federico Osuna 81 Puerta 1 \\nOurense,...  \n",
       "2  Acceso de Vidal Torrijos 98\\nSanta Cruz de Ten...  \n",
       "3               C. de Sol Morante 85\\nNavarra, 13633  \n",
       "4        Pasaje de Federico Anglada 30\\nÁvila, 13980  \n",
       "5     Via de René Girón 216 Puerta 3 \\nToledo, 30642  \n",
       "6   Rambla de Chelo Peñas 93 Puerta 5 \\nÁlava, 18425  \n",
       "7         Alameda Amor Río 874 Piso 7 \\nÁlava, 36857  \n",
       "8  Urbanización de Godofredo Barrera 88 Apt. 31 \\...  \n",
       "9         Cañada de Adriana Ibañez 47\\nZamora, 03005  "
      ]
     },
     "execution_count": 6,
     "metadata": {},
     "output_type": "execute_result"
    }
   ],
   "source": [
    "df.head(10)"
   ]
  },
  {
   "cell_type": "code",
   "execution_count": 7,
   "id": "add4aa57-933d-4113-beb0-32d6ff4dc99c",
   "metadata": {
    "tags": []
   },
   "outputs": [
    {
     "name": "stdout",
     "output_type": "stream",
     "text": [
      "Help on function format_phone_number in module src:\n",
      "\n",
      "format_phone_number(phone)\n",
      "    Returns the phone number introduced to the standar Spanish format \"+34 XXX XXX XXX\".\n",
      "    \n",
      "    Arguments:\n",
      "        phone: a string of a phone number with or without '+' and with or without 34 at the beggining (it will be added if it doesn't have it).\n",
      "                \n",
      "                If the string is not digit, the function will not register it as an error and will return unexpected values.\n",
      "        \n",
      "    Returns:\n",
      "        formatted_phone: a string with the formatted phone like this \"+34 XXX XXX XXX\"\n",
      "\n"
     ]
    }
   ],
   "source": [
    "help(format_phone_number)"
   ]
  },
  {
   "cell_type": "code",
   "execution_count": 8,
   "id": "71d0543b-fb10-40f4-8c9e-d328239760ea",
   "metadata": {
    "tags": []
   },
   "outputs": [
    {
     "data": {
      "text/html": [
       "<div>\n",
       "<style scoped>\n",
       "    .dataframe tbody tr th:only-of-type {\n",
       "        vertical-align: middle;\n",
       "    }\n",
       "\n",
       "    .dataframe tbody tr th {\n",
       "        vertical-align: top;\n",
       "    }\n",
       "\n",
       "    .dataframe thead th {\n",
       "        text-align: right;\n",
       "    }\n",
       "</style>\n",
       "<table border=\"1\" class=\"dataframe\">\n",
       "  <thead>\n",
       "    <tr style=\"text-align: right;\">\n",
       "      <th></th>\n",
       "      <th>customer_id</th>\n",
       "      <th>first_name</th>\n",
       "      <th>last_name</th>\n",
       "      <th>email</th>\n",
       "      <th>phone_number</th>\n",
       "      <th>gender</th>\n",
       "      <th>location</th>\n",
       "    </tr>\n",
       "  </thead>\n",
       "  <tbody>\n",
       "    <tr>\n",
       "      <th>0</th>\n",
       "      <td>1</td>\n",
       "      <td>Carina</td>\n",
       "      <td>Puga Nicolau</td>\n",
       "      <td>carina.puga@belda-iglesia.com</td>\n",
       "      <td>+34 564 229 45</td>\n",
       "      <td>female</td>\n",
       "      <td>Vial Augusto Palacio 49 Puerta 3 \\nVizcaya, 37278</td>\n",
       "    </tr>\n",
       "    <tr>\n",
       "      <th>1</th>\n",
       "      <td>2</td>\n",
       "      <td>Nazario</td>\n",
       "      <td>Moll Carlos</td>\n",
       "      <td>nazario.moll@vilar.org</td>\n",
       "      <td>+34 288 171 83</td>\n",
       "      <td>male</td>\n",
       "      <td>Calle de Federico Osuna 81 Puerta 1 \\nOurense,...</td>\n",
       "    </tr>\n",
       "    <tr>\n",
       "      <th>2</th>\n",
       "      <td>3</td>\n",
       "      <td>Osvaldo</td>\n",
       "      <td>Villalonga Gallo</td>\n",
       "      <td>osvaldo.villalonga@sanz.com</td>\n",
       "      <td>+34 757 810 66</td>\n",
       "      <td>male</td>\n",
       "      <td>Acceso de Vidal Torrijos 98\\nSanta Cruz de Ten...</td>\n",
       "    </tr>\n",
       "    <tr>\n",
       "      <th>3</th>\n",
       "      <td>4</td>\n",
       "      <td>Faustino</td>\n",
       "      <td>Molina Luque</td>\n",
       "      <td>faustino.molina@uriarte-gallart.com</td>\n",
       "      <td>+34 850 328 06</td>\n",
       "      <td>male</td>\n",
       "      <td>C. de Sol Morante 85\\nNavarra, 13633</td>\n",
       "    </tr>\n",
       "    <tr>\n",
       "      <th>4</th>\n",
       "      <td>5</td>\n",
       "      <td>Carlito</td>\n",
       "      <td>Almazán Castañeda</td>\n",
       "      <td>carlito.almazán@cabo.org</td>\n",
       "      <td>+34 850 279 11</td>\n",
       "      <td>male</td>\n",
       "      <td>Pasaje de Federico Anglada 30\\nÁvila, 13980</td>\n",
       "    </tr>\n",
       "  </tbody>\n",
       "</table>\n",
       "</div>"
      ],
      "text/plain": [
       "   customer_id first_name          last_name  \\\n",
       "0            1     Carina       Puga Nicolau   \n",
       "1            2    Nazario        Moll Carlos   \n",
       "2            3    Osvaldo   Villalonga Gallo   \n",
       "3            4   Faustino       Molina Luque   \n",
       "4            5    Carlito  Almazán Castañeda   \n",
       "\n",
       "                                 email    phone_number  gender  \\\n",
       "0        carina.puga@belda-iglesia.com  +34 564 229 45  female   \n",
       "1               nazario.moll@vilar.org  +34 288 171 83    male   \n",
       "2          osvaldo.villalonga@sanz.com  +34 757 810 66    male   \n",
       "3  faustino.molina@uriarte-gallart.com  +34 850 328 06    male   \n",
       "4             carlito.almazán@cabo.org  +34 850 279 11    male   \n",
       "\n",
       "                                            location  \n",
       "0  Vial Augusto Palacio 49 Puerta 3 \\nVizcaya, 37278  \n",
       "1  Calle de Federico Osuna 81 Puerta 1 \\nOurense,...  \n",
       "2  Acceso de Vidal Torrijos 98\\nSanta Cruz de Ten...  \n",
       "3               C. de Sol Morante 85\\nNavarra, 13633  \n",
       "4        Pasaje de Federico Anglada 30\\nÁvila, 13980  "
      ]
     },
     "execution_count": 8,
     "metadata": {},
     "output_type": "execute_result"
    }
   ],
   "source": [
    "# Apply the function to the 'Phone' column\n",
    "df.phone_number = df.phone_number.apply(format_phone_number)\n",
    "\n",
    "df.head()"
   ]
  },
  {
   "cell_type": "code",
   "execution_count": 9,
   "id": "92e1745d-5962-4e11-8e84-0271a2bd8f04",
   "metadata": {
    "tags": []
   },
   "outputs": [
    {
     "data": {
      "text/plain": [
       "25"
      ]
     },
     "execution_count": 9,
     "metadata": {},
     "output_type": "execute_result"
    }
   ],
   "source": [
    "# and now we append all the dummy data\n",
    "df.to_sql(name='customer',\n",
    "          con=CURSOR,\n",
    "          if_exists='append',\n",
    "          index=False)"
   ]
  },
  {
   "cell_type": "markdown",
   "id": "9d2b2c40-487e-4801-b3ef-cefd0f5ec745",
   "metadata": {
    "tags": []
   },
   "source": [
    "## Filling rental table"
   ]
  },
  {
   "cell_type": "code",
   "execution_count": 10,
   "id": "6de87efa-6939-4b55-8349-e815d2c95ade",
   "metadata": {
    "tags": []
   },
   "outputs": [],
   "source": [
    "# import old rental table\n",
    "df = pd.read_csv('../src/rental.csv')"
   ]
  },
  {
   "cell_type": "code",
   "execution_count": 11,
   "id": "6cf97acf-02eb-470e-a1e2-863eff7eb4ea",
   "metadata": {
    "tags": []
   },
   "outputs": [
    {
     "name": "stdout",
     "output_type": "stream",
     "text": [
      "<class 'pandas.core.frame.DataFrame'>\n",
      "RangeIndex: 1000 entries, 0 to 999\n",
      "Data columns (total 7 columns):\n",
      " #   Column        Non-Null Count  Dtype \n",
      "---  ------        --------------  ----- \n",
      " 0   rental_id     1000 non-null   int64 \n",
      " 1   rental_date   1000 non-null   object\n",
      " 2   inventory_id  1000 non-null   int64 \n",
      " 3   customer_id   1000 non-null   int64 \n",
      " 4   return_date   1000 non-null   object\n",
      " 5   staff_id      1000 non-null   int64 \n",
      " 6   last_update   1000 non-null   object\n",
      "dtypes: int64(4), object(3)\n",
      "memory usage: 54.8+ KB\n"
     ]
    }
   ],
   "source": [
    "df.info()"
   ]
  },
  {
   "cell_type": "markdown",
   "id": "c8e6911e-a004-4185-ac97-e9133778726c",
   "metadata": {},
   "source": [
    "`last_update` was determined to be a useless column, so we're going to drop it along `staff_id` since Deli Ushional store is a self-service automatic store without staff (realisticly there would be guards, storage staff and so on but for the sake of simplicity that is going to be ommited)."
   ]
  },
  {
   "cell_type": "code",
   "execution_count": 12,
   "id": "4d2d727f-de9d-4a18-b251-12b2569366ff",
   "metadata": {
    "tags": []
   },
   "outputs": [],
   "source": [
    "df.drop(['last_update', 'staff_id'], axis=1, inplace=True)"
   ]
  },
  {
   "cell_type": "code",
   "execution_count": 13,
   "id": "87635319-dbe3-477a-b6a1-9ce4313e3e65",
   "metadata": {
    "tags": []
   },
   "outputs": [
    {
     "data": {
      "text/plain": [
       "array([19, 10, 18,  6, 25, 24,  1, 11,  5,  3, 17,  7, 21,  9, 16, 12,  2,\n",
       "       23,  8, 15, 14,  4, 20, 22, 13], dtype=int64)"
      ]
     },
     "execution_count": 13,
     "metadata": {},
     "output_type": "execute_result"
    }
   ],
   "source": [
    "# we're going to change customer_id to the values we created before \n",
    "\n",
    "df.customer_id = df.customer_id.apply(lambda x: rd.randint(1, 25))\n",
    "\n",
    "df.customer_id.unique()"
   ]
  },
  {
   "cell_type": "code",
   "execution_count": 15,
   "id": "ac15eadc-8272-496e-96a6-e930b36f0365",
   "metadata": {
    "tags": []
   },
   "outputs": [
    {
     "data": {
      "text/html": [
       "<div>\n",
       "<style scoped>\n",
       "    .dataframe tbody tr th:only-of-type {\n",
       "        vertical-align: middle;\n",
       "    }\n",
       "\n",
       "    .dataframe tbody tr th {\n",
       "        vertical-align: top;\n",
       "    }\n",
       "\n",
       "    .dataframe thead th {\n",
       "        text-align: right;\n",
       "    }\n",
       "</style>\n",
       "<table border=\"1\" class=\"dataframe\">\n",
       "  <thead>\n",
       "    <tr style=\"text-align: right;\">\n",
       "      <th></th>\n",
       "      <th>rental_id</th>\n",
       "      <th>rental_date</th>\n",
       "      <th>inventory_id</th>\n",
       "      <th>customer_id</th>\n",
       "      <th>return_date</th>\n",
       "    </tr>\n",
       "  </thead>\n",
       "  <tbody>\n",
       "    <tr>\n",
       "      <th>0</th>\n",
       "      <td>1</td>\n",
       "      <td>2023-05-24 22:53:30</td>\n",
       "      <td>367</td>\n",
       "      <td>19</td>\n",
       "      <td>2023-05-26 22:04:30</td>\n",
       "    </tr>\n",
       "    <tr>\n",
       "      <th>1</th>\n",
       "      <td>2</td>\n",
       "      <td>2023-05-24 22:54:33</td>\n",
       "      <td>1525</td>\n",
       "      <td>10</td>\n",
       "      <td>2023-05-28 19:40:33</td>\n",
       "    </tr>\n",
       "    <tr>\n",
       "      <th>2</th>\n",
       "      <td>3</td>\n",
       "      <td>2023-05-24 23:03:39</td>\n",
       "      <td>1711</td>\n",
       "      <td>18</td>\n",
       "      <td>2023-06-01 22:12:39</td>\n",
       "    </tr>\n",
       "    <tr>\n",
       "      <th>3</th>\n",
       "      <td>4</td>\n",
       "      <td>2023-05-24 23:04:41</td>\n",
       "      <td>2452</td>\n",
       "      <td>6</td>\n",
       "      <td>2023-06-03 01:43:41</td>\n",
       "    </tr>\n",
       "    <tr>\n",
       "      <th>4</th>\n",
       "      <td>5</td>\n",
       "      <td>2023-05-24 23:05:21</td>\n",
       "      <td>2079</td>\n",
       "      <td>25</td>\n",
       "      <td>2023-06-02 04:33:21</td>\n",
       "    </tr>\n",
       "  </tbody>\n",
       "</table>\n",
       "</div>"
      ],
      "text/plain": [
       "   rental_id          rental_date  inventory_id  customer_id  \\\n",
       "0          1  2023-05-24 22:53:30           367           19   \n",
       "1          2  2023-05-24 22:54:33          1525           10   \n",
       "2          3  2023-05-24 23:03:39          1711           18   \n",
       "3          4  2023-05-24 23:04:41          2452            6   \n",
       "4          5  2023-05-24 23:05:21          2079           25   \n",
       "\n",
       "           return_date  \n",
       "0  2023-05-26 22:04:30  \n",
       "1  2023-05-28 19:40:33  \n",
       "2  2023-06-01 22:12:39  \n",
       "3  2023-06-03 01:43:41  \n",
       "4  2023-06-02 04:33:21  "
      ]
     },
     "execution_count": 15,
     "metadata": {},
     "output_type": "execute_result"
    }
   ],
   "source": [
    "df.rental_date = df.rental_date.apply(lambda x: x.replace(x[:4], '2023'))\n",
    "\n",
    "df.return_date = df.return_date.apply(lambda x: x.replace(x[:4], '2023'))\n",
    "\n",
    "df.head()"
   ]
  },
  {
   "cell_type": "code",
   "execution_count": 16,
   "id": "3d6493ff-8d62-4272-96ef-20738da48711",
   "metadata": {
    "tags": []
   },
   "outputs": [],
   "source": [
    "# finally, inventory_id has numbers higher than the ones we have in inventory. Since this is dummy data, we're going to assign random numbers to the inventory_id using the ids we have\n",
    "\n",
    "df.inventory_id = df.inventory_id.apply(lambda x: rd.randint(1, 1000))"
   ]
  },
  {
   "cell_type": "markdown",
   "id": "a796762f-d899-4fac-a6e1-be702a38ce61",
   "metadata": {},
   "source": [
    "Now that the `rental` table has been modified to support our needs, it's time to export it to sql."
   ]
  },
  {
   "cell_type": "code",
   "execution_count": 17,
   "id": "c891bc09-005f-4aa8-a4b7-0a6bac54de3c",
   "metadata": {
    "tags": []
   },
   "outputs": [
    {
     "data": {
      "text/plain": [
       "1000"
      ]
     },
     "execution_count": 17,
     "metadata": {},
     "output_type": "execute_result"
    }
   ],
   "source": [
    "# first we downcast the ints\n",
    "\n",
    "for c in df.select_dtypes('integer'):\n",
    "    df[c] = pd.to_numeric(df[c], downcast='integer')\n",
    "    \n",
    "# and now we append to the db\n",
    "df.to_sql(name='rental',\n",
    "          con=CURSOR,\n",
    "          if_exists='append',\n",
    "          index=False)"
   ]
  }
 ],
 "metadata": {
  "kernelspec": {
   "display_name": "Python 3 (ipykernel)",
   "language": "python",
   "name": "python3"
  },
  "language_info": {
   "codemirror_mode": {
    "name": "ipython",
    "version": 3
   },
   "file_extension": ".py",
   "mimetype": "text/x-python",
   "name": "python",
   "nbconvert_exporter": "python",
   "pygments_lexer": "ipython3",
   "version": "3.11.4"
  }
 },
 "nbformat": 4,
 "nbformat_minor": 5
}
