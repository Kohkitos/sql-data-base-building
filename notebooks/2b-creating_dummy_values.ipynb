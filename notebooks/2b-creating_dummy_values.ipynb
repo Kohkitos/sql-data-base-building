{
 "cells": [
  {
   "cell_type": "markdown",
   "id": "821da6ac-7208-4ff2-ae28-6d496d940efd",
   "metadata": {},
   "source": [
    "# Creating dummy values"
   ]
  },
  {
   "cell_type": "markdown",
   "id": "e7137b68-37c4-4a8e-b1bf-897bdf014bb8",
   "metadata": {},
   "source": [
    "Some time has passed since we created the database and now some customes have been (surprisingly) using the store's services and we have some data about them.\n"
   ]
  },
  {
   "cell_type": "markdown",
   "id": "ea4cecea-e50c-4fbe-abbb-7ffd9efd8596",
   "metadata": {},
   "source": [
    "## Process\n",
    "\n",
    "We're going to add dummy values to the `rental` and `customer` tables (like we did in the `store` table) so that we can de more complex queries in the final part of the project.\n",
    "\n",
    "+ `customer`: using a couple libraries, we're going to add some random values to the table.\n",
    "+ `rental`: we're going to use the original `rental.csv`, cleaning it and changing the date values so that it makes sense and randomnly changing the `customer_id` with the ids we've created on the previous steps"
   ]
  },
  {
   "cell_type": "code",
   "execution_count": 1,
   "id": "282625fd-6c64-4e72-ab12-d9aba3cdb904",
   "metadata": {
    "tags": []
   },
   "outputs": [],
   "source": [
    "# Necessary installs\n",
    "\n",
    "# %pip install faker"
   ]
  },
  {
   "cell_type": "code",
   "execution_count": 2,
   "id": "f4c89e8c-1931-4ed3-90eb-ebda7f0803b0",
   "metadata": {
    "tags": []
   },
   "outputs": [],
   "source": [
    "# libraries\n",
    "import pandas as pd\n",
    "pd.set_option('display.max_columns', None)\n",
    "\n",
    "import numpy as np\n",
    "\n",
    "import mysql.connector\n",
    "from sqlalchemy import create_engine\n",
    "from passwords import CURSOR\n",
    "\n",
    "import warnings\n",
    "warnings.filterwarnings('ignore')\n",
    "\n",
    "import random as rd\n",
    "from faker import Faker"
   ]
  },
  {
   "cell_type": "markdown",
   "id": "7a15098e-7f39-4000-b6af-eb2e0291ec8a",
   "metadata": {},
   "source": [
    "## Filling customer table"
   ]
  },
  {
   "cell_type": "code",
   "execution_count": 3,
   "id": "daef7f02-6ef3-43dc-847b-45220d24f1cb",
   "metadata": {
    "tags": []
   },
   "outputs": [
    {
     "data": {
      "text/html": [
       "<div>\n",
       "<style scoped>\n",
       "    .dataframe tbody tr th:only-of-type {\n",
       "        vertical-align: middle;\n",
       "    }\n",
       "\n",
       "    .dataframe tbody tr th {\n",
       "        vertical-align: top;\n",
       "    }\n",
       "\n",
       "    .dataframe thead th {\n",
       "        text-align: right;\n",
       "    }\n",
       "</style>\n",
       "<table border=\"1\" class=\"dataframe\">\n",
       "  <thead>\n",
       "    <tr style=\"text-align: right;\">\n",
       "      <th></th>\n",
       "      <th>customer_id</th>\n",
       "      <th>first_name</th>\n",
       "      <th>last_name</th>\n",
       "      <th>email</th>\n",
       "      <th>phone_number</th>\n",
       "      <th>gender</th>\n",
       "      <th>location</th>\n",
       "    </tr>\n",
       "  </thead>\n",
       "  <tbody>\n",
       "  </tbody>\n",
       "</table>\n",
       "</div>"
      ],
      "text/plain": [
       "Empty DataFrame\n",
       "Columns: [customer_id, first_name, last_name, email, phone_number, gender, location]\n",
       "Index: []"
      ]
     },
     "execution_count": 3,
     "metadata": {},
     "output_type": "execute_result"
    }
   ],
   "source": [
    "# fetch the dable from sql\n",
    "          \n",
    "sql_query = pd.read_sql_query (\n",
    "                                '''\n",
    "                               SELECT\n",
    "                               *\n",
    "                               FROM customer\n",
    "                               '''\n",
    "                                , CURSOR)\n",
    "\n",
    "df = pd.DataFrame(sql_query)\n",
    "\n",
    "df"
   ]
  },
  {
   "cell_type": "code",
   "execution_count": 4,
   "id": "df787c1a-0f91-439a-a271-aa4c676ed184",
   "metadata": {
    "tags": []
   },
   "outputs": [
    {
     "data": {
      "text/plain": [
       "'b'"
      ]
     },
     "execution_count": 4,
     "metadata": {},
     "output_type": "execute_result"
    }
   ],
   "source": [
    "['a', 'b', 'c'][rd.randint(0, 2)]"
   ]
  },
  {
   "cell_type": "code",
   "execution_count": 5,
   "id": "702ed212-b3a6-4eec-b867-6a40c0b12786",
   "metadata": {},
   "outputs": [],
   "source": [
    "# we're going to create 25 dummy costumers\n",
    "\n",
    "# set faker to get random spanish values\n",
    "fake = Faker('es_ES')\n",
    "\n",
    "# i + 1 will be the index\n",
    "for i in range(25):\n",
    "    # generate random gender\n",
    "    gender = ['male', 'female', 'non-binary'][rd.randint(0,2)]\n",
    "    \n",
    "    # assign names depending on gender\n",
    "    if gender == 'male':\n",
    "        fname = fake.first_name_male()\n",
    "        \n",
    "    elif gender == 'female':\n",
    "        fname = fake.first_name_female()\n",
    "    \n",
    "    else:\n",
    "        fname = fake.first_name()\n",
    "        \n",
    "    lname = fake.last_name() + ' ' + fake.last_name()\n",
    "        \n",
    "    # creating dummy data with faker    \n",
    "    location = fake.address()\n",
    "    phone = fake.phone_number()\n",
    "    email_domain = fake.domain_name()\n",
    "    mail = f\"{fname.lower()}.{lname.split()[0].lower()}@{email_domain}\"\n",
    "    \n",
    "    # and append everything\n",
    "    df.loc[i] = [i+1, fname, lname, mail, phone, gender, location]\n",
    "    \n",
    "    "
   ]
  },
  {
   "cell_type": "code",
   "execution_count": 7,
   "id": "e9091382-a5c1-4f14-9336-08c4330e5d4e",
   "metadata": {
    "tags": []
   },
   "outputs": [
    {
     "data": {
      "text/html": [
       "<div>\n",
       "<style scoped>\n",
       "    .dataframe tbody tr th:only-of-type {\n",
       "        vertical-align: middle;\n",
       "    }\n",
       "\n",
       "    .dataframe tbody tr th {\n",
       "        vertical-align: top;\n",
       "    }\n",
       "\n",
       "    .dataframe thead th {\n",
       "        text-align: right;\n",
       "    }\n",
       "</style>\n",
       "<table border=\"1\" class=\"dataframe\">\n",
       "  <thead>\n",
       "    <tr style=\"text-align: right;\">\n",
       "      <th></th>\n",
       "      <th>customer_id</th>\n",
       "      <th>first_name</th>\n",
       "      <th>last_name</th>\n",
       "      <th>email</th>\n",
       "      <th>phone_number</th>\n",
       "      <th>gender</th>\n",
       "      <th>location</th>\n",
       "    </tr>\n",
       "  </thead>\n",
       "  <tbody>\n",
       "    <tr>\n",
       "      <th>0</th>\n",
       "      <td>1</td>\n",
       "      <td>Édgar</td>\n",
       "      <td>Maldonado Villalba</td>\n",
       "      <td>édgar.maldonado@hidalgo-hervia.es</td>\n",
       "      <td>+34925900876</td>\n",
       "      <td>non-binary</td>\n",
       "      <td>Alameda Asunción Río 9\\nMálaga, 25617</td>\n",
       "    </tr>\n",
       "    <tr>\n",
       "      <th>1</th>\n",
       "      <td>2</td>\n",
       "      <td>Pascual</td>\n",
       "      <td>Espinosa Pinto</td>\n",
       "      <td>pascual.espinosa@vives.es</td>\n",
       "      <td>+34900 30 81 44</td>\n",
       "      <td>male</td>\n",
       "      <td>Callejón Julio Barreda 1\\nMálaga, 22188</td>\n",
       "    </tr>\n",
       "    <tr>\n",
       "      <th>2</th>\n",
       "      <td>3</td>\n",
       "      <td>Florinda</td>\n",
       "      <td>Mendizábal Chaparro</td>\n",
       "      <td>florinda.mendizábal@seco.es</td>\n",
       "      <td>+34745 43 47 55</td>\n",
       "      <td>female</td>\n",
       "      <td>Plaza de Gabriel Llamas 77 Piso 3 \\nAlmería, 1...</td>\n",
       "    </tr>\n",
       "    <tr>\n",
       "      <th>3</th>\n",
       "      <td>4</td>\n",
       "      <td>Lorenzo</td>\n",
       "      <td>Amor Torrents</td>\n",
       "      <td>lorenzo.amor@landa-rossello.net</td>\n",
       "      <td>+34710 611 438</td>\n",
       "      <td>non-binary</td>\n",
       "      <td>Ronda de Jaime Posada 18 Puerta 8 \\nZaragoza, ...</td>\n",
       "    </tr>\n",
       "    <tr>\n",
       "      <th>4</th>\n",
       "      <td>5</td>\n",
       "      <td>Esther</td>\n",
       "      <td>Huerta Sanchez</td>\n",
       "      <td>esther.huerta@armas.es</td>\n",
       "      <td>+34 977 737 594</td>\n",
       "      <td>non-binary</td>\n",
       "      <td>C. Ciriaco Caballero 579 Piso 9 \\nValencia, 29852</td>\n",
       "    </tr>\n",
       "    <tr>\n",
       "      <th>5</th>\n",
       "      <td>6</td>\n",
       "      <td>Eulalia</td>\n",
       "      <td>Olivé Tejedor</td>\n",
       "      <td>eulalia.olivé@casado.net</td>\n",
       "      <td>+34888 40 71 35</td>\n",
       "      <td>female</td>\n",
       "      <td>Camino Remigio Cases 58 Apt. 80 \\nCeuta, 44458</td>\n",
       "    </tr>\n",
       "    <tr>\n",
       "      <th>6</th>\n",
       "      <td>7</td>\n",
       "      <td>Amanda</td>\n",
       "      <td>Guillen Toro</td>\n",
       "      <td>amanda.guillen@collado-roca.net</td>\n",
       "      <td>+34927 98 79 35</td>\n",
       "      <td>female</td>\n",
       "      <td>Vial de Carlito Verdú 56\\nGuadalajara, 12209</td>\n",
       "    </tr>\n",
       "    <tr>\n",
       "      <th>7</th>\n",
       "      <td>8</td>\n",
       "      <td>Rodolfo</td>\n",
       "      <td>Lladó Figuerola</td>\n",
       "      <td>rodolfo.lladó@reguera.net</td>\n",
       "      <td>+34676 395 080</td>\n",
       "      <td>male</td>\n",
       "      <td>Alameda de Daniela Uribe 629 Puerta 4 \\nLleida...</td>\n",
       "    </tr>\n",
       "    <tr>\n",
       "      <th>8</th>\n",
       "      <td>9</td>\n",
       "      <td>Juanito</td>\n",
       "      <td>Barbero España</td>\n",
       "      <td>juanito.barbero@patino.es</td>\n",
       "      <td>+34 727 138 208</td>\n",
       "      <td>male</td>\n",
       "      <td>Plaza Dalila Adán 56\\nCastellón, 02507</td>\n",
       "    </tr>\n",
       "    <tr>\n",
       "      <th>9</th>\n",
       "      <td>10</td>\n",
       "      <td>Sol</td>\n",
       "      <td>Soria Cantón</td>\n",
       "      <td>sol.soria@bonilla.es</td>\n",
       "      <td>+34 945764180</td>\n",
       "      <td>female</td>\n",
       "      <td>Via Ramona Cánovas 4 Apt. 59 \\nPontevedra, 16140</td>\n",
       "    </tr>\n",
       "  </tbody>\n",
       "</table>\n",
       "</div>"
      ],
      "text/plain": [
       "   customer_id first_name            last_name  \\\n",
       "0            1      Édgar   Maldonado Villalba   \n",
       "1            2    Pascual       Espinosa Pinto   \n",
       "2            3   Florinda  Mendizábal Chaparro   \n",
       "3            4    Lorenzo        Amor Torrents   \n",
       "4            5     Esther       Huerta Sanchez   \n",
       "5            6    Eulalia        Olivé Tejedor   \n",
       "6            7     Amanda         Guillen Toro   \n",
       "7            8    Rodolfo      Lladó Figuerola   \n",
       "8            9    Juanito       Barbero España   \n",
       "9           10        Sol         Soria Cantón   \n",
       "\n",
       "                               email     phone_number      gender  \\\n",
       "0  édgar.maldonado@hidalgo-hervia.es     +34925900876  non-binary   \n",
       "1          pascual.espinosa@vives.es  +34900 30 81 44        male   \n",
       "2        florinda.mendizábal@seco.es  +34745 43 47 55      female   \n",
       "3    lorenzo.amor@landa-rossello.net   +34710 611 438  non-binary   \n",
       "4             esther.huerta@armas.es  +34 977 737 594  non-binary   \n",
       "5           eulalia.olivé@casado.net  +34888 40 71 35      female   \n",
       "6    amanda.guillen@collado-roca.net  +34927 98 79 35      female   \n",
       "7          rodolfo.lladó@reguera.net   +34676 395 080        male   \n",
       "8          juanito.barbero@patino.es  +34 727 138 208        male   \n",
       "9               sol.soria@bonilla.es    +34 945764180      female   \n",
       "\n",
       "                                            location  \n",
       "0              Alameda Asunción Río 9\\nMálaga, 25617  \n",
       "1            Callejón Julio Barreda 1\\nMálaga, 22188  \n",
       "2  Plaza de Gabriel Llamas 77 Piso 3 \\nAlmería, 1...  \n",
       "3  Ronda de Jaime Posada 18 Puerta 8 \\nZaragoza, ...  \n",
       "4  C. Ciriaco Caballero 579 Piso 9 \\nValencia, 29852  \n",
       "5     Camino Remigio Cases 58 Apt. 80 \\nCeuta, 44458  \n",
       "6       Vial de Carlito Verdú 56\\nGuadalajara, 12209  \n",
       "7  Alameda de Daniela Uribe 629 Puerta 4 \\nLleida...  \n",
       "8             Plaza Dalila Adán 56\\nCastellón, 02507  \n",
       "9   Via Ramona Cánovas 4 Apt. 59 \\nPontevedra, 16140  "
      ]
     },
     "execution_count": 7,
     "metadata": {},
     "output_type": "execute_result"
    }
   ],
   "source": [
    "df.head(10)"
   ]
  },
  {
   "cell_type": "code",
   "execution_count": null,
   "id": "71d0543b-fb10-40f4-8c9e-d328239760ea",
   "metadata": {},
   "outputs": [],
   "source": []
  }
 ],
 "metadata": {
  "kernelspec": {
   "display_name": "Python 3 (ipykernel)",
   "language": "python",
   "name": "python3"
  },
  "language_info": {
   "codemirror_mode": {
    "name": "ipython",
    "version": 3
   },
   "file_extension": ".py",
   "mimetype": "text/x-python",
   "name": "python",
   "nbconvert_exporter": "python",
   "pygments_lexer": "ipython3",
   "version": "3.11.4"
  }
 },
 "nbformat": 4,
 "nbformat_minor": 5
}
