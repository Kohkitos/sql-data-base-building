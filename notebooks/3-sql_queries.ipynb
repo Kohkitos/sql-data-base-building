{
 "cells": [
  {
   "cell_type": "markdown",
   "id": "584aa7c2-fffa-4f74-90c6-0321207ee241",
   "metadata": {},
   "source": [
    "# Solving Queries"
   ]
  },
  {
   "cell_type": "markdown",
   "id": "7574b08e-14c6-4e92-88c2-4b6d6f912dab",
   "metadata": {},
   "source": [
    "After a few months, Mr. Ushional needs some information about how the store is going and needs us to do some queries to answer his questions."
   ]
  },
  {
   "cell_type": "code",
   "execution_count": 1,
   "id": "eb2039d8-ed11-4d66-bb35-165bf7e7a97e",
   "metadata": {
    "tags": []
   },
   "outputs": [],
   "source": [
    "# libraries \n",
    "import pandas as pd\n",
    "pd.set_option('display.max_columns', None)\n",
    "\n",
    "import numpy as np\n",
    "\n",
    "import mysql.connector\n",
    "from sqlalchemy import create_engine\n",
    "\n",
    "import warnings\n",
    "warnings.filterwarnings('ignore')\n",
    "\n",
    "from passwords import CURSOR"
   ]
  },
  {
   "cell_type": "markdown",
   "id": "057e8fee-d4ef-4e8d-b15e-3e9dbf52c2a2",
   "metadata": {},
   "source": [
    "### 1. What are the top 3 actors whose movies are rented the most?"
   ]
  },
  {
   "cell_type": "code",
   "execution_count": null,
   "id": "d3cb707b-8284-4ec5-9709-7d54335880be",
   "metadata": {},
   "outputs": [],
   "source": []
  },
  {
   "cell_type": "markdown",
   "id": "d7240737-1898-4904-ba20-c760f9638089",
   "metadata": {},
   "source": [
    "### 2. I'm really interested in customer 5, can you show a table with his full name, address and the movie rating and category he rents the most? Omit the movies yet to categorize its genre."
   ]
  },
  {
   "cell_type": "code",
   "execution_count": null,
   "id": "f7499087-0366-4950-9acc-3a2f0e861695",
   "metadata": {},
   "outputs": [],
   "source": []
  },
  {
   "cell_type": "markdown",
   "id": "223dd21d-eeba-4ae2-8f76-654305773780",
   "metadata": {},
   "source": [
    "### 3. I need a table with the most rented categories during August."
   ]
  },
  {
   "cell_type": "code",
   "execution_count": null,
   "id": "10d723c5-30b5-4035-ad25-de1daddb5561",
   "metadata": {},
   "outputs": [],
   "source": []
  },
  {
   "cell_type": "markdown",
   "id": "c1a46abe-ea0a-4f9f-a345-c5d3196a8200",
   "metadata": {},
   "source": [
    "### 4. In which month did Carlito rent the most amount of movies? Display only his beautiful name and the number of movies he rented."
   ]
  },
  {
   "cell_type": "code",
   "execution_count": null,
   "id": "955ebc26-9f84-4dcf-9869-8f26b9e605b8",
   "metadata": {},
   "outputs": [],
   "source": []
  },
  {
   "cell_type": "markdown",
   "id": "1d304488-dbf1-4e67-8698-95b9e8a0aae3",
   "metadata": {},
   "source": [
    "### 5. I'm planning to add a new store in Ávila. It would be called Blockbuster Love, it will be in Ávila, Ávila, the contact phone would be +34 654 486 124, we don't have a mail yet and the warehouse can only have 500 movies as well, so we can take the overbooking inventory from my house to the new store, so assgin new values to the inventory so that half of the films go to the new store."
   ]
  },
  {
   "cell_type": "code",
   "execution_count": null,
   "id": "8292646d-24b2-4836-b933-a23c8d6283c5",
   "metadata": {},
   "outputs": [],
   "source": []
  },
  {
   "cell_type": "markdown",
   "id": "1a4e5eb6-3840-451e-a821-c19f544c6c03",
   "metadata": {},
   "source": [
    "### 6. Carlito is such a good client I was planning on gifting him his favourite drama movie, can you look for the top 5 drama movies he has rented the most?"
   ]
  },
  {
   "cell_type": "code",
   "execution_count": null,
   "id": "d1b07117-269b-448d-b905-99f447a50df6",
   "metadata": {},
   "outputs": [],
   "source": []
  },
  {
   "cell_type": "markdown",
   "id": "d24a7191-8c0e-40ae-9708-e5c8e6bad6c9",
   "metadata": {},
   "source": [
    "### 7. I think only gifting something to Carlito might be weird, can you show our top 3 clients who have rented the most amount of movies and their location so that I can send a 'thank you' basket to their houses?"
   ]
  },
  {
   "cell_type": "code",
   "execution_count": null,
   "id": "6dc008fc-f324-4dbe-9d0a-177b7482b528",
   "metadata": {},
   "outputs": [],
   "source": []
  },
  {
   "cell_type": "markdown",
   "id": "9bb28f58-2bc9-42e0-a16a-3eb20890cb7d",
   "metadata": {
    "tags": []
   },
   "source": [
    "### 8. I tried to call Carlito but he doesn't pick up the phone. Remove his phone from the database, he should have had time to answer me, so he might have changed his number, right?"
   ]
  },
  {
   "cell_type": "code",
   "execution_count": null,
   "id": "0dc92180-fc17-4e9a-914a-e0080f435795",
   "metadata": {},
   "outputs": [],
   "source": []
  },
  {
   "cell_type": "markdown",
   "id": "e80d8faa-d0fb-46a8-ac11-3b2f0d9ea3e3",
   "metadata": {},
   "source": [
    "### 9. I recently had to pay a fine because they thought I was stalking one of our clients, weird, right? I need to sell some of our inventory, so make a list of our 20 less rented movies and how many copies of them we have in our inventory. Also group them by store so that I know how many of them I can remove from each store without leaving none to them."
   ]
  },
  {
   "cell_type": "code",
   "execution_count": null,
   "id": "8ddf04e7-6873-4055-af8c-61fccc694edd",
   "metadata": {},
   "outputs": [],
   "source": []
  },
  {
   "cell_type": "markdown",
   "id": "5a6b5b5c-da14-4c00-a863-322053759f38",
   "metadata": {},
   "source": [
    "### 10. Carlito was the one who reported me, that pig. So please, change his name and last name to 'Dirty Pig' because that's what he is."
   ]
  },
  {
   "cell_type": "code",
   "execution_count": null,
   "id": "d713e827-474d-441b-80ab-376a148f41ee",
   "metadata": {},
   "outputs": [],
   "source": []
  }
 ],
 "metadata": {
  "kernelspec": {
   "display_name": "Python 3 (ipykernel)",
   "language": "python",
   "name": "python3"
  },
  "language_info": {
   "codemirror_mode": {
    "name": "ipython",
    "version": 3
   },
   "file_extension": ".py",
   "mimetype": "text/x-python",
   "name": "python",
   "nbconvert_exporter": "python",
   "pygments_lexer": "ipython3",
   "version": "3.11.4"
  }
 },
 "nbformat": 4,
 "nbformat_minor": 5
}
